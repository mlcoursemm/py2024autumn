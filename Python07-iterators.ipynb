{
 "cells": [
  {
   "cell_type": "markdown",
   "metadata": {},
   "source": [
    "![alt text](Python07-iterators_extra/logo.png) "
   ]
  },
  {
   "cell_type": "markdown",
   "metadata": {},
   "source": [
    "# Итераторы, генераторы, декораторы"
   ]
  },
  {
   "cell_type": "markdown",
   "metadata": {},
   "source": [
    "Тема непростая, будем слегка жертвовать формализмом и точностью в пользу понятности, а существование некотрых вещей вообще проигнорируем. Те из вас, кто захотят больше деталей и чётких формулировок найдут их в избытке в документации и интернете."
   ]
  },
  {
   "cell_type": "markdown",
   "metadata": {},
   "source": [
    "# Итераторы"
   ]
  },
  {
   "cell_type": "markdown",
   "metadata": {},
   "source": [
    "Давайте вспомним цикл for, который мы прошли в лекции основы питона 2, и еще раз на него посмотрим."
   ]
  },
  {
   "cell_type": "code",
   "execution_count": null,
   "metadata": {},
   "outputs": [],
   "source": [
    "for number in range(5):\n",
    "    print (number)"
   ]
  },
  {
   "cell_type": "code",
   "execution_count": null,
   "metadata": {},
   "outputs": [],
   "source": [
    "for letter in 'Hello world':\n",
    "    print (letter)"
   ]
  },
  {
   "cell_type": "code",
   "execution_count": null,
   "metadata": {},
   "outputs": [],
   "source": [
    "for key in {'Name':'John', \n",
    "            'Age':15, \n",
    "            'Gender':'Male', \n",
    "           }:\n",
    "    print (key)"
   ]
  },
  {
   "cell_type": "code",
   "execution_count": null,
   "metadata": {},
   "outputs": [],
   "source": [
    "for line in open('Python07-iterators_extra/motivation.txt', 'r'):\n",
    "    print (line)"
   ]
  },
  {
   "cell_type": "code",
   "execution_count": null,
   "metadata": {},
   "outputs": [],
   "source": [
    "for element in [0,1,2,3,4,5]:\n",
    "    print (element)"
   ]
  },
  {
   "cell_type": "markdown",
   "metadata": {},
   "source": [
    "То есть мы что, можем идти циклом по любому объекту? А это вообще законно?\n",
    "\n",
    "Давайте разбираться, как мы помним из лекции про ООП - все объекты являются классами. Рассмотрим их методы"
   ]
  },
  {
   "cell_type": "code",
   "execution_count": null,
   "metadata": {},
   "outputs": [],
   "source": [
    "dir(range(5))"
   ]
  },
  {
   "cell_type": "code",
   "execution_count": null,
   "metadata": {},
   "outputs": [],
   "source": [
    "dir({'Name':'John', \n",
    "            'Age':15, \n",
    "            'Gender':'Male', \n",
    "           })"
   ]
  },
  {
   "cell_type": "markdown",
   "metadata": {},
   "source": [
    "Метод  *\\_\\_iter*\\_\\_  возвращает итератор для заданного объекта. ![alt text](Python07-iterators_extra/iterator.jpg) \n",
    "\n",
    "Итератор - это такой объект, который имплементирует протокол итерирования. Если сказать попроще, то итератор помнит текущее состояние и знает как выбирать следующий элемент объекта, над которым он построен."
   ]
  },
  {
   "cell_type": "code",
   "execution_count": null,
   "metadata": {},
   "outputs": [],
   "source": [
    "my_list = [0,1,2,3,4,5,6,7,8,9]\n",
    "my_iter = iter(my_list)\n",
    "print(my_iter)"
   ]
  },
  {
   "cell_type": "markdown",
   "metadata": {},
   "source": [
    "Метод *\\_\\_next*\\_\\_ возвращает объект соответствующий текущему состоянию итератора и переходит к следующему, согласно заданному алгоритму (в тривиальном случае - k+1й объект). Делать это можно до тех пор, пока не получим ислючение **StopIteration**. С исключениями разбирались в лекции про Python Best Practices."
   ]
  },
  {
   "cell_type": "code",
   "execution_count": null,
   "metadata": {},
   "outputs": [],
   "source": [
    "print(my_iter.__next__()) # Выглядит жутковато"
   ]
  },
  {
   "cell_type": "code",
   "execution_count": null,
   "metadata": {},
   "outputs": [],
   "source": [
    "print(next(my_iter)) # Вроде как-то попривычнее"
   ]
  },
  {
   "cell_type": "code",
   "execution_count": null,
   "metadata": {},
   "outputs": [],
   "source": [
    "# Будем делать так, чтобы уменьшить синтаксическую нагрузку\n",
    "next(my_iter) "
   ]
  },
  {
   "cell_type": "markdown",
   "metadata": {},
   "source": [
    "**Важное свойство итератора - он не хранит объект в памяти.**"
   ]
  },
  {
   "cell_type": "code",
   "execution_count": null,
   "metadata": {},
   "outputs": [],
   "source": [
    "my_list = [0,1,2,3,4,5,6,7,8,9]\n",
    "my_iter = iter(my_list)\n",
    "print(next(my_iter))\n",
    "print(next(my_iter))"
   ]
  },
  {
   "cell_type": "code",
   "execution_count": null,
   "metadata": {},
   "outputs": [],
   "source": [
    "# Подменим объект не трогая итератор\n",
    "my_list[3] = 'let put a string here'\n",
    "my_list[4] = 'iterator does not care'"
   ]
  },
  {
   "cell_type": "code",
   "execution_count": null,
   "metadata": {},
   "outputs": [],
   "source": [
    "# Выполним несколько раз\n",
    "print(next(my_iter))"
   ]
  },
  {
   "cell_type": "markdown",
   "metadata": {},
   "source": [
    "Метод  *\\_\\_iter*\\_\\_ может возвращать self (т.е. себя), то есть итератор от итератора - тоже итератор, причём тот же самый. ![alt text](Python07-iterators_extra/more_iterators.jpg) Мы в текущей лекции не будем уделять этому много внимания, но это очень важное и постоянно используемое свойство. Давайте взглянём:"
   ]
  },
  {
   "cell_type": "code",
   "execution_count": null,
   "metadata": {},
   "outputs": [],
   "source": [
    "my_list = [0,1,2,3,4,5]\n",
    "my_iter1 = iter(my_list)\n",
    "my_iter2 = iter(my_iter1)"
   ]
  },
  {
   "cell_type": "code",
   "execution_count": null,
   "metadata": {},
   "outputs": [],
   "source": [
    "print (my_iter1)\n",
    "print (my_iter2)\n",
    "print (my_iter1 == my_iter2)"
   ]
  },
  {
   "cell_type": "code",
   "execution_count": null,
   "metadata": {},
   "outputs": [],
   "source": [
    "next(my_iter2)"
   ]
  },
  {
   "cell_type": "code",
   "execution_count": null,
   "metadata": {},
   "outputs": [],
   "source": [
    "# Чтобы было понятнее, итераторы не просто одинаковые, это тот самый итератор!\n",
    "next(my_iter1)"
   ]
  },
  {
   "cell_type": "markdown",
   "metadata": {},
   "source": [
    "Если быть достаточно наблюдательным, то можно заметить, что метод *\\_\\_next*\\_\\_ вообще-то отсутствует у наших исходных объектов. \n",
    "\n",
    "Однако он появляется когда мы делаем из него итератор"
   ]
  },
  {
   "cell_type": "code",
   "execution_count": null,
   "metadata": {},
   "outputs": [],
   "source": [
    "next(my_list)"
   ]
  },
  {
   "cell_type": "code",
   "execution_count": null,
   "metadata": {},
   "outputs": [],
   "source": [
    "next(iter(my_list))"
   ]
  },
  {
   "cell_type": "code",
   "execution_count": null,
   "metadata": {},
   "outputs": [],
   "source": [
    "# Как проверить объект на итерируемость\n",
    "#my_object = [1,2,3]\n",
    "#my_object = 2\n",
    "my_object = 'hello'\n",
    "try:\n",
    "    iter(my_object)\n",
    "    print('iterable')\n",
    "except:\n",
    "    print('not iterable')    "
   ]
  },
  {
   "cell_type": "markdown",
   "metadata": {},
   "source": [
    "С try/except тоже будем разбираться в другой лекции. Если кратко и неправильно, то при ошибке вместо выпадания мы перескочим к исключению"
   ]
  },
  {
   "cell_type": "markdown",
   "metadata": {},
   "source": [
    "Логика подсказывала, что итерироваться по числу как-то некорректно. Так и есть, делать этого нельзя.\n",
    "\n",
    "Заметим, что итерироваться по объекту можно не только при помощи iter и next, но ещё и иначе, посредством метода *\\_\\_getitem*\\_\\_. Мы не будем его подробно рассматривать, отметим только что в отличии от iter который хранит состояние внутри итератора, getitem его не хранит, принимая его снаружи, со всеми вытекающими достоинствами и недостатками. В стародавние времена это был основной протокол итерирования (в python<2.4), теперь, видимо, можно считать его устаревшим и оставшимся нам по наследству во всех старых кодах. Просто не удивляйтесь при встрече."
   ]
  },
  {
   "cell_type": "code",
   "execution_count": null,
   "metadata": {},
   "outputs": [],
   "source": [
    "a = [12,13,14,15,16,17]\n",
    "b = a.__getitem__(3)\n",
    "print(b)"
   ]
  },
  {
   "cell_type": "markdown",
   "metadata": {},
   "source": [
    "Давайте рассмотрим **range**, это даст нам новый взгляд на итераторы. Допустим, нам надо проитерироваться по какому-то очень большому циклу. Втупую, для этого пришлось бы записать всю последовательность элементов в память, создать итератор, и идти от предыдущего к следующему много раз. Но держать в памяти этот огромный объект не слишком-то хотелось бы. Тут нас и выручают итераторы, которые не держат в памяти объект, а знают только своё текущее состояние и закон по которому выбираем следующий элемент."
   ]
  },
  {
   "cell_type": "code",
   "execution_count": null,
   "metadata": {},
   "outputs": [],
   "source": [
    "# range не существует в каком-то полном запомненном/записанном виде\n",
    "print(range(5)) \n",
    "print(type(range(5)))"
   ]
  },
  {
   "cell_type": "code",
   "execution_count": null,
   "metadata": {},
   "outputs": [],
   "source": [
    "a = range(5)\n",
    "# Но range на самом деле не итератор, это итерируемый объект\n",
    "next(a)"
   ]
  },
  {
   "cell_type": "code",
   "execution_count": null,
   "metadata": {},
   "outputs": [],
   "source": [
    "# А вот это - итератор по range\n",
    "my_iter = iter(a) "
   ]
  },
  {
   "cell_type": "code",
   "execution_count": null,
   "metadata": {},
   "outputs": [],
   "source": [
    "next(my_iter)"
   ]
  },
  {
   "cell_type": "code",
   "execution_count": null,
   "metadata": {},
   "outputs": [],
   "source": [
    "# Давайте проверим, а вдруг теперь когда мы сделали над range итератор, там всё же записали весь объект\n",
    "my_iter"
   ]
  },
  {
   "cell_type": "markdown",
   "metadata": {},
   "source": [
    "**Внимание, важно!**\n",
    "\n",
    "Мы создали объект не записывая его в память и идём по нему, не держа в памяти ничего кроме текущего положения. Это очень быстро"
   ]
  },
  {
   "cell_type": "code",
   "execution_count": null,
   "metadata": {},
   "outputs": [],
   "source": [
    "# Однако, если очень хочется, мы можем попросить его сделать. \n",
    "list(my_iter)"
   ]
  },
  {
   "cell_type": "markdown",
   "metadata": {},
   "source": [
    "Все заметили что список начался не с нуля? Дело в том, что когда мы просим сделать, например, список от итератора, то происходит вот что, начиная с текущего состояния он начинает просить у итератора следующий элемент и писать в список, пока не дойдёт до конца. "
   ]
  },
  {
   "cell_type": "markdown",
   "metadata": {},
   "source": [
    "Ну, раз уж мы знаем ООП, давайте напишем свой класс с итератором. Это поможет нам лучше понять на что надо обращать внимание и как вообще их писать "
   ]
  },
  {
   "cell_type": "code",
   "execution_count": null,
   "metadata": {},
   "outputs": [],
   "source": [
    "class NaiveRange():\n",
    "    def __init__(self, start, end):\n",
    "        self.end = end\n",
    "        self.ind = start\n",
    "        \n",
    "    def __iter__(self):\n",
    "        return self\n",
    "    \n",
    "    def __next__(self):\n",
    "        if self.ind >= self.end:\n",
    "            raise StopIteration  # С этим будем разбираться в другой лекции. Если просто - \"упади с ТАКОЙ ошибкой\"\n",
    "        self.ind += 1\n",
    "        return (self.ind - 1)"
   ]
  },
  {
   "cell_type": "code",
   "execution_count": null,
   "metadata": {},
   "outputs": [],
   "source": [
    "my_range = NaiveRange(3,9)"
   ]
  },
  {
   "cell_type": "code",
   "execution_count": null,
   "metadata": {},
   "outputs": [],
   "source": [
    "# Давайте ещё раз попросим список и рассмотрим детальнее.\n",
    "list(my_range)"
   ]
  },
  {
   "cell_type": "code",
   "execution_count": null,
   "metadata": {},
   "outputs": [],
   "source": [
    "# А что если ещё разок?\n",
    "list(my_range)"
   ]
  },
  {
   "cell_type": "markdown",
   "metadata": {},
   "source": [
    "Дело в том, что архитектура нашего класса не позволяет индексу вернуться к исходному состоянию без ре-инициализации, итератор пройден до конца, и с этим ничего не поделать. Такая итерация называется **исчерпаемой**. Пример: итерация по файлу. Мы можем его открыть и по мере прочтения достигнем конца. Конечно есть всякие трюки, но базово мы можем прочитать файл только раз, далее должны открыть его заново (и ре-инициализировать итератор).\n",
    "\n",
    "Давайте теперь построим неисчераемый итератор."
   ]
  },
  {
   "cell_type": "code",
   "execution_count": null,
   "metadata": {},
   "outputs": [],
   "source": [
    "class BaseIter():\n",
    "    def __init__(self, start, end):\n",
    "        self.end = end\n",
    "        self.ind = start\n",
    "        \n",
    "    def __next__(self):\n",
    "        if self.ind == self.end:\n",
    "            raise StopIteration\n",
    "        self.ind += 1\n",
    "        return (self.ind -1)\n",
    "    \n",
    "    \n",
    "class AdvancedRange():\n",
    "    def __init__(self, start, end):\n",
    "        self.end = end\n",
    "        self.start = start\n",
    "        \n",
    "    def __iter__(self):\n",
    "        return BaseIter(self.start, self.end)"
   ]
  },
  {
   "cell_type": "code",
   "execution_count": null,
   "metadata": {},
   "outputs": [],
   "source": [
    "my_range = AdvancedRange(3,9)"
   ]
  },
  {
   "cell_type": "code",
   "execution_count": null,
   "metadata": {},
   "outputs": [],
   "source": [
    "list(my_range)"
   ]
  },
  {
   "cell_type": "code",
   "execution_count": null,
   "metadata": {},
   "outputs": [],
   "source": [
    "list(my_range)"
   ]
  },
  {
   "cell_type": "markdown",
   "metadata": {},
   "source": [
    "Теперь, при вызове итератора, мы создаем объект класса BaseIter и можем так делать сколько угодно раз, и каждый из них будет держать в своей памяти своё состояние, не мешая остальным итерироваться. Это, соответственно, **неисчерпаемая** итерация. Пример: список, словарь."
   ]
  },
  {
   "cell_type": "markdown",
   "metadata": {},
   "source": [
    "Теперь, с учётом полученных сведений, давайте вернёмся к тому с чего начинали лекцию. \n",
    "\n",
    "**Псевдокод для цикла for** (он примерно так и организован)"
   ]
  },
  {
   "cell_type": "markdown",
   "metadata": {},
   "source": [
    "```python\n",
    "some_iter = iter(some_object)\n",
    "while True:    \n",
    "    try:        \n",
    "        some_value = next(some_iter)        \n",
    "    except StopIteration:        \n",
    "        break        \n",
    "    do_smth(some_value)\n",
    "```"
   ]
  },
  {
   "cell_type": "markdown",
   "metadata": {},
   "source": [
    "# Генераторы"
   ]
  },
  {
   "cell_type": "markdown",
   "metadata": {},
   "source": [
    "Идея следующая. Сделаем такую функцию, которая будет по какому-то входному параметру создавать итераторы. Ключевой является команда **yield**, которая работает примерно как *return* только при следующем обращении проход по телу будет осуществляться не с начала, а с места где мы закончили. Разберём пару примеров и станет ясно зачем это всё надо. \n",
    "![alt text](Python07-iterators_extra/iter_vs_gen.svg)"
   ]
  },
  {
   "cell_type": "code",
   "execution_count": null,
   "metadata": {},
   "outputs": [],
   "source": [
    "def my_first_genertor(var):\n",
    "    yield 'first launch'\n",
    "    yield 'second launch'\n",
    "    some_result = var*3+2\n",
    "    yield some_result\n",
    "    yield 'last launch'\n",
    "    print ('Done, no more yields, only an exception - StopIteration')"
   ]
  },
  {
   "cell_type": "code",
   "execution_count": null,
   "metadata": {},
   "outputs": [],
   "source": [
    "my_gen = my_first_genertor(2)\n",
    "#list(my_gen)"
   ]
  },
  {
   "cell_type": "code",
   "execution_count": null,
   "metadata": {},
   "outputs": [],
   "source": [
    "next(my_gen)"
   ]
  },
  {
   "cell_type": "markdown",
   "metadata": {},
   "source": [
    "Далее, сколько бы мы не вызывали, если не ре-инициализировать генератор, то он больше ничего не выдаст. Генератор **исчерпался**. \n",
    "\n",
    "**Return** же в свою очередь в генераторе не работает как обычно, а работает исключительно как *StopIteration*. Если return не написать, то он подразумевается в конце."
   ]
  },
  {
   "cell_type": "code",
   "execution_count": null,
   "metadata": {},
   "outputs": [],
   "source": [
    "def my_second_genertor(var):\n",
    "    yield 'first launch'\n",
    "    return 'second launch' # Заменим yield на return\n",
    "    some_result = var*3+2\n",
    "    yield some_result\n",
    "    yield 'last launch'\n",
    "    print ('Done, no more yields, only an exception - StopIteration')"
   ]
  },
  {
   "cell_type": "code",
   "execution_count": null,
   "metadata": {},
   "outputs": [],
   "source": [
    "my_gen = my_second_genertor(2)\n",
    "list(my_gen)"
   ]
  },
  {
   "cell_type": "code",
   "execution_count": null,
   "metadata": {},
   "outputs": [],
   "source": [
    "next(my_gen)"
   ]
  },
  {
   "cell_type": "markdown",
   "metadata": {},
   "source": [
    "Заметим, что запустив повторно мы больше не переходим к следующему yield. Генератор исчерпался по исключению, не зависимо от того есть ли там ещё yield. "
   ]
  },
  {
   "cell_type": "markdown",
   "metadata": {},
   "source": [
    "**Важное замечание** Кроме описанного обычного завершения, стандартные генераторы можно завершить снаружи при помощи метода close. Этот метод вызывается, в том числе, принудительной остановкой и работает через исключение *GeneratorExit*. При самостоятельной реализации метода close, надо учитывать, что **GeneratorExit не отлавливается как базовое исключение**, и если не прописать его в явном виде при имплементации своего генератора, то есть шанс утратить возможность принудительной остановки, и никакие *Ctrl+C* не отработают. Уже после принудительной остановки, дальнейшие вызовы также получат *StopIteration*."
   ]
  },
  {
   "cell_type": "markdown",
   "metadata": {},
   "source": [
    "Выглядеть должно как-то так. Выглядит усложненным, но это близко к настоящей реализации.\n",
    "```python\n",
    "def safe_gen():\n",
    "    closed = False\n",
    "    try:\n",
    "        yield 'check '\n",
    "    except GeneratorExit:\n",
    "        print('exit!')\n",
    "        closed = True\n",
    "        raise StopIteration\n",
    "    finally:\n",
    "        if not closed:\n",
    "            print('worked!')\n",
    "\n",
    "```"
   ]
  },
  {
   "cell_type": "markdown",
   "metadata": {},
   "source": [
    "Зачем же нам всё это может нам понадобиться? Давайте вспомним одну классную *штуку* которую мы видели на второй лекции"
   ]
  },
  {
   "cell_type": "code",
   "execution_count": null,
   "metadata": {},
   "outputs": [],
   "source": [
    "nums = ['zero', 'one', 'two', 'three', 'four']\n",
    "for index, number in enumerate(nums):\n",
    "    print(index, number)"
   ]
  },
  {
   "cell_type": "markdown",
   "metadata": {},
   "source": [
    "**Enumerate** при итерации по объекту присваивает порядковые номера объектам, очень удобно и рекомендуется к использованию. *Enumerate* ни что иное как генератор, и может быть записано следующим образом"
   ]
  },
  {
   "cell_type": "code",
   "execution_count": null,
   "metadata": {},
   "outputs": [],
   "source": [
    "def my_enumerate(iterable_object):\n",
    "    ind = 0\n",
    "    for smth in iterable_object:\n",
    "        yield ind, smth\n",
    "        ind += 1"
   ]
  },
  {
   "cell_type": "code",
   "execution_count": null,
   "metadata": {},
   "outputs": [],
   "source": [
    "for index, number in my_enumerate(nums):\n",
    "    print(index, number)"
   ]
  },
  {
   "cell_type": "markdown",
   "metadata": {},
   "source": [
    "Когда встречаешь что-то такое первый раз, то невольно возникает мысль \"Ну написали цикл в функции, и зачем это всё? Я и сам могу цикл написать и безо всяких генераторов\". Однако, стоит обратить внимание на то, что генератор (он ведь тоже итератор!) не держит в памяти полностью записанный объект, вместо этого просто обращается к методу *next*, и это очень важно."
   ]
  },
  {
   "cell_type": "code",
   "execution_count": null,
   "metadata": {},
   "outputs": [],
   "source": [
    "print(my_enumerate(nums))"
   ]
  },
  {
   "cell_type": "markdown",
   "metadata": {},
   "source": [
    "Давайте рассмотрим ещё несколько генераторов"
   ]
  },
  {
   "cell_type": "code",
   "execution_count": null,
   "metadata": {},
   "outputs": [],
   "source": [
    "# map(func, smth_iterable) применяет к каждом элементу функцию func\n",
    "double = map(lambda x: x + x, nums) \n",
    "print(double)"
   ]
  },
  {
   "cell_type": "code",
   "execution_count": null,
   "metadata": {},
   "outputs": [],
   "source": [
    "print(list(double))"
   ]
  },
  {
   "cell_type": "code",
   "execution_count": null,
   "metadata": {},
   "outputs": [],
   "source": [
    "# Потренируемся, сделаем свой map\n",
    "def my_map(func, iterable_object):\n",
    "    for smth in iterable_object:\n",
    "        yield func(smth)"
   ]
  },
  {
   "cell_type": "code",
   "execution_count": null,
   "metadata": {},
   "outputs": [],
   "source": [
    "my_double = my_map(lambda x: x + x, nums) \n",
    "print(list(my_double))"
   ]
  },
  {
   "cell_type": "code",
   "execution_count": null,
   "metadata": {},
   "outputs": [],
   "source": [
    "# filter(cond, smth_iterable) применяет к каждому элементу проверку по условию cond и отфильтровывает\n",
    "len_filter = filter(lambda x: len(x) > 3, nums)\n",
    "print(list(len_filter))"
   ]
  },
  {
   "cell_type": "code",
   "execution_count": null,
   "metadata": {},
   "outputs": [],
   "source": [
    "# Cделаем свой filter\n",
    "def my_filter(condition, iterable_object):\n",
    "    for smth in iterable_object:\n",
    "        if condition(smth):\n",
    "            yield smth"
   ]
  },
  {
   "cell_type": "code",
   "execution_count": null,
   "metadata": {},
   "outputs": [],
   "source": [
    "# filter(cond, smth_iterable) применяет к каждому элементу проверку по условию cond и отфильтровывает\n",
    "my_len_filter = my_filter(lambda x: len(x) > 3, nums)\n",
    "print(list(my_len_filter))"
   ]
  },
  {
   "cell_type": "markdown",
   "metadata": {},
   "source": [
    "Есть множество полезных генераторов, которые пока ещё не впилили в основной питон (но судя по логам версий - этим занимаются): count, repeat, cycle, chain и другие. Их можно найти в пакете itertools. Давайте посмотрим."
   ]
  },
  {
   "cell_type": "code",
   "execution_count": null,
   "metadata": {},
   "outputs": [],
   "source": [
    "from itertools import repeat\n",
    "# Повторяет то что ему дали"
   ]
  },
  {
   "cell_type": "code",
   "execution_count": null,
   "metadata": {},
   "outputs": [],
   "source": [
    "for var in repeat(5):\n",
    "    print(var)"
   ]
  },
  {
   "cell_type": "code",
   "execution_count": null,
   "metadata": {},
   "outputs": [],
   "source": [
    "from itertools import chain\n",
    "# \"Раскрывает\" итерируемые объекты и делает из них один. Но делает это только на 1 уровень в \"глубину\""
   ]
  },
  {
   "cell_type": "code",
   "execution_count": null,
   "metadata": {},
   "outputs": [],
   "source": [
    "list(chain('A', 'B', [1, 2, 3, None], 'a string', range(4,7)))"
   ]
  },
  {
   "cell_type": "code",
   "execution_count": null,
   "metadata": {},
   "outputs": [],
   "source": [
    "list(chain('A', 'B', [1, 2, 3, 'a string', None], [range(4,7)]))"
   ]
  },
  {
   "cell_type": "code",
   "execution_count": null,
   "metadata": {},
   "outputs": [],
   "source": [
    "from itertools import count\n",
    "# Принимает начальное состояние и шаг и делает с ними бесконечный цикл"
   ]
  },
  {
   "cell_type": "code",
   "execution_count": null,
   "metadata": {},
   "outputs": [],
   "source": [
    "for i in count(0,3):\n",
    "    print(i)"
   ]
  },
  {
   "cell_type": "markdown",
   "metadata": {},
   "source": [
    "Давайте еще рассмотрим такой пример. Допустим у нас есть объект, и мы хотим его перегруппировать в процессе итерации. "
   ]
  },
  {
   "cell_type": "code",
   "execution_count": null,
   "metadata": {},
   "outputs": [],
   "source": [
    "my_object = [0, 1, 2, 'zero', 'one', 'two', 'A', 'B', 'C']\n",
    "my_iter = iter(my_object)\n",
    "print(list(zip(my_iter, my_iter, my_iter)))"
   ]
  },
  {
   "cell_type": "markdown",
   "metadata": {},
   "source": [
    "### Выражения-генераторы"
   ]
  },
  {
   "cell_type": "markdown",
   "metadata": {},
   "source": [
    "Стандарт Pep-289 даёт нам подробные инструкции как надо записывать и вообще как пользоваться выражениями-генераторами https://www.python.org/dev/peps/pep-0289/ \n",
    "Например,"
   ]
  },
  {
   "cell_type": "code",
   "execution_count": null,
   "metadata": {},
   "outputs": [],
   "source": [
    "def gen(exp):\n",
    "    for x in exp:\n",
    "        yield x**2\n",
    "g = gen(iter(range(10)))\n",
    "\n",
    "# Эквивалентно\n",
    "g = (x**2 for x in range(10))"
   ]
  },
  {
   "cell_type": "markdown",
   "metadata": {},
   "source": [
    "Это удобно краткой записью в одну строку, при этом это не просто выражение, а генератор, со всеми вытекающими преимуществами и свойствами, которые мы ранее изучили. "
   ]
  },
  {
   "cell_type": "markdown",
   "metadata": {},
   "source": [
    "**Расширим функциональность генератора**. Теперь мы хотим не только получать из него следующий элемент по команде, но и как-то более явно в этом участвовать, например посылать в него данные, чтобы получать другие данные. Для этого Используем команду **send**, а принимать данные будем при помощи всё того же *yield*, но немного иначе."
   ]
  },
  {
   "cell_type": "code",
   "execution_count": null,
   "metadata": {},
   "outputs": [],
   "source": [
    "def gen():\n",
    "    for i in range(10):\n",
    "        x = yield \n",
    "        print(i + x)"
   ]
  },
  {
   "cell_type": "code",
   "execution_count": null,
   "metadata": {},
   "outputs": [],
   "source": [
    "my_gen = gen()\n",
    "next(my_gen) "
   ]
  },
  {
   "cell_type": "markdown",
   "metadata": {},
   "source": [
    "Могло показаться что мы попросили следующий элемент... но это не так, это обращение к генератору для его инициализации. На самом деле next теперь вообще не работает, ввиду более сложной конструкции."
   ]
  },
  {
   "cell_type": "code",
   "execution_count": null,
   "metadata": {},
   "outputs": [],
   "source": [
    "next(my_gen)"
   ]
  },
  {
   "cell_type": "markdown",
   "metadata": {},
   "source": [
    "NoneType - это потому что x - None, он не пришёл, и с ним невозможно сложиться.\n",
    "\n",
    "Послать x можно при помощи send"
   ]
  },
  {
   "cell_type": "code",
   "execution_count": null,
   "metadata": {},
   "outputs": [],
   "source": [
    "my_gen.send(17)"
   ]
  },
  {
   "cell_type": "markdown",
   "metadata": {},
   "source": [
    "next(my_gen) эквивалентент my_gen.send(None)"
   ]
  },
  {
   "cell_type": "markdown",
   "metadata": {},
   "source": [
    "![alt text](Python07-iterators_extra/deeper.png) "
   ]
  },
  {
   "cell_type": "markdown",
   "metadata": {},
   "source": [
    "Давайте теперь рассмотрим такой пример, когда у нас есть два генератора, которые общаются между собой "
   ]
  },
  {
   "cell_type": "code",
   "execution_count": null,
   "metadata": {},
   "outputs": [],
   "source": [
    "import random\n",
    "\n",
    "# Генерим новые данные... но это не генератор! (по определению генератора)\n",
    "def get_data():\n",
    "    return random.sample(range(10), 2)\n",
    "\n",
    "# Обрабатываем данные\n",
    "def consume():\n",
    "    total_sum = 0\n",
    "    total_amount = 0\n",
    "    \n",
    "    while True:\n",
    "        data = yield\n",
    "        total_sum += sum(data)\n",
    "        total_amount += len(data)\n",
    "        print('Running average is {}'.format(total_sum/total_amount))\n",
    "        \n",
    "# Производим новые данные и передаём в обработку\n",
    "def produce(consumer):\n",
    "    while True:\n",
    "        data = get_data()\n",
    "        print('New data {}'.format(data))\n",
    "        consumer.send(data)\n",
    "        yield"
   ]
  },
  {
   "cell_type": "code",
   "execution_count": null,
   "metadata": {},
   "outputs": [],
   "source": [
    "consumer = consume()\n",
    "next(consumer)\n",
    "producer = produce(consumer)\n",
    "\n",
    "for _ in range(1000):\n",
    "    next(producer)"
   ]
  },
  {
   "cell_type": "markdown",
   "metadata": {},
   "source": [
    "Чем хороша приведённая конструкция (её идея)? Мы не просто разделили процесс генерации и обработки данных, это можно было сделать и без всяких генераторов. **Send** создаёт отдельный поток вычислений, которые производятся параллельно основному телу программы. Таким образом, генерить и обрабатывать данные многими разными способами можно в параллели, притормаживая только по ключевому слову *yield* чтобы дождаться данных или следующего обращения. \n",
    "\n",
    "Всё это называется Coroutine и поподробнее можно почитать в PEP-342 https://www.python.org/dev/peps/pep-0342/"
   ]
  },
  {
   "cell_type": "markdown",
   "metadata": {},
   "source": [
    "![alt text](Python07-iterators_extra/coroutine.jpg)"
   ]
  },
  {
   "cell_type": "markdown",
   "metadata": {},
   "source": [
    "Картинка выглядит похожей, и может показаться что мы переименовали прерывания и переключения на yield, и огород не стоил свеч. Но, повторимся, send уходит в отдельный поток вычислений.\n",
    "\n",
    "Эта идея позволяет нам, например, создать планировщик задач, который по определенным условиям будет запускать тот или иной генератор, и экономить время выполняя их в параллели и переключаясь на них только когда это требуется. Это наша первая встреча с мультипроцессингом. На самом деле тут очень много нюансов, и обсуждать это мы будем в самой последней лекции. \n",
    "\n",
    "**ВНИМАНИЕ** *Те кто переживает что плохо понял тему, и кто хочет разобраться и закрепить в памяти материал по генераторам, могут после лекции попробовать написать генератор, который в параллели качнет наши прошедшие лекции с гитхаба, обложить таймерами, и убедиться что это действительно работает быстрее, а так же убедиться что это почему-то быстрее не в N раз, где N - число прошедших лекций. Это не сложно, и это не обязательное задание, но это поможет усвоить материал. Ничего никуда посылать не надо.*"
   ]
  },
  {
   "cell_type": "markdown",
   "metadata": {},
   "source": [
    "Последнее о генераторах, что хотелось бы рассмотреть это конструкция **yield from**. Обычно говорят, что эта конструкция устанавливает двунаправленную связь между вызывающим генератором и суб-генератором, передавая, в том числе, исключения (transparent two way channel).\n",
    "\n",
    "Сначала простой пример:"
   ]
  },
  {
   "cell_type": "code",
   "execution_count": null,
   "metadata": {},
   "outputs": [],
   "source": [
    "def generator_simple():\n",
    "    for i in range(10):\n",
    "        yield i\n",
    "    for j in range(10, 20):\n",
    "        yield j"
   ]
  },
  {
   "cell_type": "markdown",
   "metadata": {},
   "source": [
    "Он, будет выдавать нам числа от 0 до 19. И мы решили разбить его на две части чтобы их можно было еще использовать по отдельности где-то в других местах и не писать по генератору на все случаи жизни."
   ]
  },
  {
   "cell_type": "code",
   "execution_count": null,
   "metadata": {},
   "outputs": [],
   "source": [
    "def generator1():\n",
    "    for i in range(10):\n",
    "        yield i\n",
    "\n",
    "def generator2():\n",
    "    for j in range(10, 20):\n",
    "        yield j        "
   ]
  },
  {
   "cell_type": "markdown",
   "metadata": {},
   "source": [
    "А потом всё же решили что нам нужен один генератор, который умеет от 0 до 19"
   ]
  },
  {
   "cell_type": "code",
   "execution_count": null,
   "metadata": {},
   "outputs": [],
   "source": [
    "def generator():\n",
    "    for i in generator1():\n",
    "        yield i\n",
    "    for j in generator2():\n",
    "        yield j"
   ]
  },
  {
   "cell_type": "code",
   "execution_count": null,
   "metadata": {},
   "outputs": [],
   "source": [
    "# То же самое можно записать в виде\n",
    "def generator_from():\n",
    "    yield from generator1()\n",
    "    yield from generator2()"
   ]
  },
  {
   "cell_type": "markdown",
   "metadata": {},
   "source": [
    "Понятно, что это не очень впечатляет, так что давайте сразу посмотрим чуть более сложный пример"
   ]
  },
  {
   "cell_type": "code",
   "execution_count": null,
   "metadata": {},
   "outputs": [],
   "source": [
    "def writer():\n",
    "    \"\"\"A coroutine that writes data *sent* to it \"\"\"\n",
    "    while True:\n",
    "        w = (yield)\n",
    "        print('>> ', w)\n",
    "\n",
    "def writer_wrapper(coro):\n",
    "    coro.send(None)  # Для инициализации\n",
    "    while True:\n",
    "        try:\n",
    "            x = (yield)  # Принимаем\n",
    "            coro.send(x)  # и передаём\n",
    "        except StopIteration:\n",
    "            pass"
   ]
  },
  {
   "cell_type": "code",
   "execution_count": null,
   "metadata": {},
   "outputs": [],
   "source": [
    "w = writer()\n",
    "wrap = writer_wrapper(w)\n",
    "wrap.send(None)\n",
    "for i in range(4):\n",
    "    wrap.send(i)"
   ]
  },
  {
   "cell_type": "code",
   "execution_count": null,
   "metadata": {},
   "outputs": [],
   "source": [
    "#Всё то же самое выполняется при помощи yield from\n",
    "def writer_wrapper_from(coro):\n",
    "    yield from coro"
   ]
  },
  {
   "cell_type": "code",
   "execution_count": null,
   "metadata": {},
   "outputs": [],
   "source": [
    "w = writer()\n",
    "wrap = writer_wrapper_from(w)\n",
    "wrap.send(None)\n",
    "for i in range(4):\n",
    "    wrap.send(i)"
   ]
  },
  {
   "cell_type": "markdown",
   "metadata": {},
   "source": [
    "Если подытожить, то yield from позволяет серьезно упростить код и не думать о всяких вещах, о которых мы обычно не хотим думать, и **не теряет** при этом никаких важных исключений или типа того."
   ]
  },
  {
   "cell_type": "markdown",
   "metadata": {},
   "source": [
    "# Декораторы\n",
    "![alt text](Python07-iterators_extra/decorators.jpg)"
   ]
  },
  {
   "cell_type": "markdown",
   "metadata": {},
   "source": [
    "Допустим, мы столкнулись с задачей, что нам надо подправить кое-какие функции, но лезть в них и менять код прямо там нам не сильно охота, потому что, например, мы можем потом передумать. Или переживаем за общую совместимость кода в большом проекте. Сделаем обёртку нужной нам функции:"
   ]
  },
  {
   "cell_type": "code",
   "execution_count": null,
   "metadata": {},
   "outputs": [],
   "source": [
    "def deprecated(func):\n",
    "    def wrap(*args, **kwargs):\n",
    "        print ('{} will be deprecated soon'.format(func.__name__))\n",
    "        return func(*args, **kwargs)\n",
    "    return wrap"
   ]
  },
  {
   "cell_type": "code",
   "execution_count": null,
   "metadata": {},
   "outputs": [],
   "source": [
    "def my_func(x):\n",
    "    return x+3\n",
    "\n",
    "# \"Обернём\" нашу функцию посредством переприсвоения\n",
    "my_func = deprecated(my_func)"
   ]
  },
  {
   "cell_type": "code",
   "execution_count": null,
   "metadata": {},
   "outputs": [],
   "source": [
    "my_func(2)"
   ]
  },
  {
   "cell_type": "code",
   "execution_count": null,
   "metadata": {},
   "outputs": [],
   "source": [
    "# Ровно то же самое можно записать без переприсвоения:\n",
    "@deprecated # Это декоратор\n",
    "def my_func(x):\n",
    "    return x+3"
   ]
  },
  {
   "cell_type": "code",
   "execution_count": null,
   "metadata": {},
   "outputs": [],
   "source": [
    "my_func(2)"
   ]
  },
  {
   "cell_type": "code",
   "execution_count": null,
   "metadata": {},
   "outputs": [],
   "source": [
    "# Но, заметим, что именем ф-ии стало имя обёртки\n",
    "my_func.__name__"
   ]
  },
  {
   "cell_type": "markdown",
   "metadata": {},
   "source": [
    "Чтобы сделать красивый декоратор и совсем ничего в функции не менять, кроме того что мы поменять хотим, давайте воспользуемся библиотекой functools ![alt text](Python07-iterators_extra/decoration.jpeg)"
   ]
  },
  {
   "cell_type": "code",
   "execution_count": null,
   "metadata": {},
   "outputs": [],
   "source": [
    "import functools\n",
    "\n",
    "def deprecated(func):\n",
    "    @functools.wraps(func)\n",
    "    def wrap(*args, **kwargs):\n",
    "        print ('{} will be deprecated soon'.format(func.__name__))\n",
    "        return func(*args, **kwargs)\n",
    "    return wrap\n",
    "\n",
    "@deprecated\n",
    "def my_func(x):\n",
    "    return x+3\n",
    "\n",
    "my_func.__name__"
   ]
  },
  {
   "cell_type": "markdown",
   "metadata": {},
   "source": [
    "Functools - высокоуровневая библиотека, упрощающая работу с функциями и другими вызываемыми объектами, когда требуется расширить, дополнить или даже полностью изменить сам объект. Более детально можно познакомиться, например, здесь https://docs.python.org/3.3/library/functools.html"
   ]
  },
  {
   "cell_type": "markdown",
   "metadata": {},
   "source": [
    "Декораторы работают с классами так же как и с функциями. \n",
    "\n",
    "Создадим декоратор выводящий время работы декорируемой функции или класса, вполне жизненный пример. "
   ]
  },
  {
   "cell_type": "code",
   "execution_count": null,
   "metadata": {},
   "outputs": [],
   "source": [
    "import time\n",
    "import functools\n",
    "\n",
    "def timer(func):\n",
    "    \"\"\"Print the runtime of the decorated function\"\"\"\n",
    "    @functools.wraps(func)\n",
    "    def wrapper_timer(*args, **kwargs):\n",
    "        start_time = time.perf_counter()    # 1\n",
    "        value = func(*args, **kwargs)\n",
    "        end_time = time.perf_counter()      # 2\n",
    "        run_time = end_time - start_time    # 3\n",
    "        print(f\"Finished {func.__name__!r} in {run_time:.4f} secs\")\n",
    "        return value\n",
    "    return wrapper_timer\n"
   ]
  },
  {
   "cell_type": "code",
   "execution_count": null,
   "metadata": {},
   "outputs": [],
   "source": [
    "class TimeWaster:    \n",
    "    def __init__(self, max_num):\n",
    "        self.max_num = max_num\n",
    "\n",
    "    @timer\n",
    "    def waste_time(self, num_times):\n",
    "        for _ in range(num_times):\n",
    "            sum([i**2 for i in range(self.max_num)])        "
   ]
  },
  {
   "cell_type": "code",
   "execution_count": null,
   "metadata": {},
   "outputs": [],
   "source": [
    "tw = TimeWaster(1000)\n",
    "tw.waste_time(999)"
   ]
  },
  {
   "cell_type": "markdown",
   "metadata": {},
   "source": [
    "Допустим, мы хотим чтобы наш декоратор что-то нам важное вывел, например исключение. Только не в общий вывод, чтобы не засорять, а куда-то в другое место, где мы при необходимости прочитаем. Для этого можно использовать *атрибуты декоратора*"
   ]
  },
  {
   "cell_type": "code",
   "execution_count": null,
   "metadata": {},
   "outputs": [],
   "source": [
    "def redirected_output(destination=None):        \n",
    "    def wrapper(*args, **kwargs):\n",
    "        with open(destination, 'w') as output:\n",
    "            print('Some important information', \n",
    "                  file=output)    \n",
    "    return wrapper"
   ]
  },
  {
   "cell_type": "code",
   "execution_count": null,
   "metadata": {},
   "outputs": [],
   "source": [
    "@redirected_output(destination='log.txt')\n",
    "def foo():\n",
    "    pass"
   ]
  },
  {
   "cell_type": "markdown",
   "metadata": {},
   "source": [
    "Этот пример не очень хорош, зато он прост и демонстрирует, что в сам декоратор можно передавать входные данные"
   ]
  },
  {
   "cell_type": "markdown",
   "metadata": {},
   "source": [
    "![alt text](Python07-iterators_extra/end.jpg)"
   ]
  },
  {
   "cell_type": "markdown",
   "metadata": {},
   "source": [
    "# Домашнее задание."
   ]
  },
  {
   "cell_type": "markdown",
   "metadata": {},
   "source": [
    "Вы снова получите у телеграм-бота файлы с автомобильными траекториями. По полученным данным нужно выявить нарушителей скоростного режима. Предельная допустимая скорость устанавливается в 40 км/ч. Сделать это нужно при помощи полученных сегодня знаний **(pandas запрещен)**, написать хороший итератор, и пройтись ним по данным.\n",
    "\n",
    "Генератор принимает путь к файлу и выдаёт все объекты превышающие допустимую скорость 40 км/ч непрерывно в течении 1 секунды или дольше.\n",
    "\n",
    "Скорость это путь разделенный на время.  \n",
    "\n",
    "**Координаты в метрах, время в секундах.**\n",
    "\n",
    "Для самопроверки нужно передать боту ID всех нарушителей. Для этого нужно записать их в файл по одному в строку и прислать.\n",
    "\n",
    "Детали:\n",
    "Мы ожидаем от вас answer.txt с ответами и code.py с кодом, в котором будет написан итератор/генератор, и всё что нужно для запуска.\n",
    "\n",
    "\n"
   ]
  },
  {
   "cell_type": "markdown",
   "metadata": {},
   "source": [
    "Пара подсказок:\n",
    "1. Итераторов вы вольны писать сколько угодно\n",
    "2. Самое короткое решение прошлого года занимало около 10 строк."
   ]
  },
  {
   "cell_type": "code",
   "execution_count": null,
   "metadata": {},
   "outputs": [],
   "source": []
  }
 ],
 "metadata": {
  "kernelspec": {
   "display_name": "Python 3 (ipykernel)",
   "language": "python",
   "name": "python3"
  },
  "language_info": {
   "codemirror_mode": {
    "name": "ipython",
    "version": 3
   },
   "file_extension": ".py",
   "mimetype": "text/x-python",
   "name": "python",
   "nbconvert_exporter": "python",
   "pygments_lexer": "ipython3",
   "version": "3.8.10"
  }
 },
 "nbformat": 4,
 "nbformat_minor": 4
}
