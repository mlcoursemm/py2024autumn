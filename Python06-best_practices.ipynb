{
 "cells": [
  {
   "cell_type": "markdown",
   "metadata": {},
   "source": [
    "### Курс \"Python для исследователя\", осень 2024"
   ]
  },
  {
   "cell_type": "markdown",
   "metadata": {},
   "source": [
    "### Занятие 6, лучшие практики "
   ]
  },
  {
   "cell_type": "markdown",
   "metadata": {},
   "source": [
    "### Содержание\n",
    "\n",
    "* PEP8\n",
    "* Ошибки и исключения\n",
    "* Контекстные менеджеры\n",
    "* Функции dir и help, документирование\n",
    "* Работа с путями: os.path\n",
    "* Использование virtualenv, conda env, docker\n",
    "* Статический анализ кода\n",
    "* Анализ аргументов командной строки с помощью модуля Argparse"
   ]
  },
  {
   "cell_type": "markdown",
   "metadata": {},
   "source": [
    "### PEP8"
   ]
  },
  {
   "cell_type": "markdown",
   "metadata": {},
   "source": [
    "Вопрос: Что такое PEP8?\n",
    "    \n",
    "Ответ: ![](Python06-best_practices_extra/pep8.jpeg) \n",
    "\n",
    "Рекомендуется читать в [оригинале](https://www.python.org/dev/peps/pep-0008/)"
   ]
  },
  {
   "cell_type": "markdown",
   "metadata": {},
   "source": [
    "Вопрос: Зачем нужен PEP8?\n",
    "    \n",
    "Ответ: код читается намного больше раз, чем пишется. Pекоммендации о стиле написания кода направлены на то, чтобы улучшить читабельность кода и сделать его согласованным между большим числом проектов."
   ]
  },
  {
   "cell_type": "code",
   "execution_count": 1,
   "metadata": {},
   "outputs": [
    {
     "name": "stdout",
     "output_type": "stream",
     "text": [
      "The Zen of Python, by Tim Peters\n",
      "\n",
      "Beautiful is better than ugly.\n",
      "Explicit is better than implicit.\n",
      "Simple is better than complex.\n",
      "Complex is better than complicated.\n",
      "Flat is better than nested.\n",
      "Sparse is better than dense.\n",
      "Readability counts.\n",
      "Special cases aren't special enough to break the rules.\n",
      "Although practicality beats purity.\n",
      "Errors should never pass silently.\n",
      "Unless explicitly silenced.\n",
      "In the face of ambiguity, refuse the temptation to guess.\n",
      "There should be one-- and preferably only one --obvious way to do it.\n",
      "Although that way may not be obvious at first unless you're Dutch.\n",
      "Now is better than never.\n",
      "Although never is often better than *right* now.\n",
      "If the implementation is hard to explain, it's a bad idea.\n",
      "If the implementation is easy to explain, it may be a good idea.\n",
      "Namespaces are one honking great idea -- let's do more of those!\n"
     ]
    }
   ],
   "source": [
    "import this # кстати, это PEP 20"
   ]
  },
  {
   "cell_type": "markdown",
   "metadata": {},
   "source": [
    "### Перевод на русский:\n",
    "\n",
    "    Красивое лучше, чем уродливое.\n",
    "    Явное лучше, чем неявное.\n",
    "    Простое лучше, чем сложное.\n",
    "    Сложное лучше, чем запутанное.\n",
    "    Плоское лучше, чем вложенное.\n",
    "    Разреженное лучше, чем плотное.\n",
    "    Читаемость имеет значение.\n",
    "    Особые случаи не настолько особые, чтобы нарушать правила.\n",
    "    При этом практичность важнее безупречности.\n",
    "    Ошибки никогда не должны замалчиваться.\n",
    "    Если они не замалчиваются явно.\n",
    "    Встретив двусмысленность, отбрось искушение угадать.\n",
    "    Должен существовать один и, желательно, только один очевидный способ сделать это.\n",
    "    Хотя он поначалу может быть и не очевиден, если вы не голландец.\n",
    "    Сейчас лучше, чем никогда.\n",
    "    Хотя никогда зачастую лучше, чем прямо сейчас.\n",
    "    Если реализацию сложно объяснить — идея плоха.\n",
    "    Если реализацию легко объяснить — идея, возможно, хороша.\n",
    "    Пространства имён — отличная штука! Будем делать их больше!\n"
   ]
  },
  {
   "cell_type": "markdown",
   "metadata": {},
   "source": [
    "Вопрос: Когда следует игнорировать стандарт PEP8?\n",
    "\n",
    "Ответ: Когда основная цель (улучшение читабельности кода) не может быть достигнута, следуя рекомендациям стандарта"
   ]
  },
  {
   "cell_type": "markdown",
   "metadata": {},
   "source": [
    "![](Python06-best_practices_extra/read_code_joke.jpg) "
   ]
  },
  {
   "cell_type": "markdown",
   "metadata": {},
   "source": [
    "####   1. PEP8: форматирование кода"
   ]
  },
  {
   "cell_type": "markdown",
   "metadata": {},
   "source": [
    "**Отступы**\n",
    "\n",
    "Используйте 4 пробела на один уровень отступа. "
   ]
  },
  {
   "cell_type": "markdown",
   "metadata": {},
   "source": [
    "**Максимальная длина строки**\n",
    "\n",
    "Ограничьте максимальную длину строки 79 символами.\n",
    "\n",
    "Для более длинных блоков текста с меньшими структурными ограничениями (строки документации или комментарии), длину строки следует ограничить 72 символами.\n",
    "\n"
   ]
  },
  {
   "cell_type": "markdown",
   "metadata": {},
   "source": [
    "**Перенос строки**\n",
    "\n",
    "Предпочтительный способ переноса длинных строк — использование подразумевающегося продолжения строки между обычными, квадратными и фигурными скобками. В случае необходимости можно добавить еще одну пару скобок вокруг выражения, но часто лучше выглядит обратный слэш. Постарайтесь сделать правильные отступы для перенесённой строки."
   ]
  },
  {
   "cell_type": "markdown",
   "metadata": {},
   "source": [
    "```python\n",
    "with open('/path/to/some/file/you/want/to/read') as file_1, \\\n",
    "     open('/path/to/some/file/being/written', 'w') as file_2:\n",
    "    file_2.write(file_1.read())\n",
    "```"
   ]
  },
  {
   "cell_type": "markdown",
   "metadata": {},
   "source": [
    "```python\n",
    "# Correct:\n",
    "\n",
    "# Aligned with opening delimiter.\n",
    "foo = long_function_name(var_one, var_two,\n",
    "                         var_three, var_four)\n",
    "\n",
    "# Add 4 spaces (an extra level of indentation) to distinguish arguments from the rest.\n",
    "def long_function_name(\n",
    "        var_one, var_two, var_three,\n",
    "        var_four):\n",
    "    print(var_one)\n",
    "\n",
    "# Hanging indents should add a level.\n",
    "foo = long_function_name(\n",
    "    var_one, var_two,\n",
    "    var_three, var_four)\n",
    "```"
   ]
  },
  {
   "cell_type": "markdown",
   "metadata": {},
   "source": [
    "```python\n",
    "# Wrong:\n",
    "\n",
    "# Arguments on first line forbidden when not using vertical alignment.\n",
    "foo = long_function_name(var_one, var_two,\n",
    "    var_three, var_four)\n",
    "\n",
    "# Further indentation required as indentation is not distinguishable.\n",
    "def long_function_name(\n",
    "    var_one, var_two, var_three,\n",
    "    var_four):\n",
    "    print(var_one)\n",
    "```"
   ]
  },
  {
   "cell_type": "markdown",
   "metadata": {},
   "source": [
    "```python\n",
    "my_list = [\n",
    "    1, 2, 3,\n",
    "    4, 5, 6,\n",
    "    ]\n",
    "result = some_function_that_takes_arguments(\n",
    "    'a', 'b', 'c',\n",
    "    'd', 'e', 'f',\n",
    "    )\n",
    "\n",
    "my_list = [\n",
    "    1, 2, 3,\n",
    "    4, 5, 6,\n",
    "]\n",
    "result = some_function_that_takes_arguments(\n",
    "    'a', 'b', 'c',\n",
    "    'd', 'e', 'f',\n",
    ")\n",
    "```"
   ]
  },
  {
   "cell_type": "markdown",
   "metadata": {},
   "source": [
    "Следует помещать операторы на одну строку с последующими операндами"
   ]
  },
  {
   "cell_type": "markdown",
   "metadata": {},
   "source": [
    "```python\n",
    "# Wrong:\n",
    "# operators sit far away from their operands\n",
    "income = (gross_wages +\n",
    "          taxable_interest +\n",
    "          (dividends - qualified_dividends) -\n",
    "          ira_deduction -\n",
    "          student_loan_interest)\n",
    "```"
   ]
  },
  {
   "cell_type": "markdown",
   "metadata": {},
   "source": [
    "```python\n",
    "# Correct:\n",
    "# easy to match operators with operands\n",
    "income = (gross_wages\n",
    "          + taxable_interest\n",
    "          + (dividends - qualified_dividends)\n",
    "          - ira_deduction\n",
    "          - student_loan_interest)\n",
    "```"
   ]
  },
  {
   "cell_type": "markdown",
   "metadata": {},
   "source": [
    "**Пустые строки**\n",
    "\n",
    "* Отделяйте функции (верхнего уровня, не функции внутри функций) и определения классов двумя пустыми строчками.\n",
    "\n",
    "* Определения методов внутри класса отделяйте одной пустой строкой.\n",
    "\n",
    "* Дополнительные отступы строками могут быть изредка использованы для выделения группы логически связанных функций.\n",
    "\n",
    "* Используйте (без энтузиазма) пустые строки в коде функций, чтобы отделить друг от друга логические части.\n"
   ]
  },
  {
   "cell_type": "markdown",
   "metadata": {},
   "source": [
    "**Пробелы в выражениях и инструкциях**"
   ]
  },
  {
   "cell_type": "markdown",
   "metadata": {},
   "source": [
    "1. Избегайте использование пробелов сразу после или перед скобками "
   ]
  },
  {
   "cell_type": "markdown",
   "metadata": {},
   "source": [
    "```python\n",
    "# Correct:\n",
    "spam(ham[1], {eggs: 2})\n",
    "\n",
    "# Wrong:\n",
    "spam( ham[ 1 ], { eggs: 2 } )\n",
    "```"
   ]
  },
  {
   "cell_type": "markdown",
   "metadata": {},
   "source": [
    "```python\n",
    "# Correct:\n",
    "foo = (0,)\n",
    "\n",
    "# Wrong:\n",
    "bar = (0, )\n",
    "```"
   ]
  },
  {
   "cell_type": "markdown",
   "metadata": {},
   "source": [
    "2. Избегайте использование пробелов перед запятой, точкой с запятой, двоеточием"
   ]
  },
  {
   "cell_type": "markdown",
   "metadata": {},
   "source": [
    "```python\n",
    "# Correct:\n",
    "if x == 4: print x, y; x, y = y, x\n",
    "    \n",
    "# Wrong:\n",
    "if x == 4 : print x , y ; x , y = y , x\n",
    "```"
   ]
  },
  {
   "cell_type": "markdown",
   "metadata": {},
   "source": [
    "3. Избегайте использование пробелов перед открывающей скобкой, после которой начинается список аргументов при вызове функци"
   ]
  },
  {
   "cell_type": "markdown",
   "metadata": {},
   "source": [
    "```python\n",
    "# Correct:\n",
    "spam(1)\n",
    "\n",
    "# Wrong:\n",
    "spam (1)\n",
    "```"
   ]
  },
  {
   "cell_type": "markdown",
   "metadata": {},
   "source": [
    "4. Избегайте использование пробелов сразу перед открывающей скобкой, после которой следует индекс или срез"
   ]
  },
  {
   "cell_type": "markdown",
   "metadata": {},
   "source": [
    "```python\n",
    "# Correct:\n",
    "dct['key'] = lst[index]\n",
    "\n",
    "# Wrong:\n",
    "dct ['key'] = lst [index]\n",
    "```"
   ]
  },
  {
   "cell_type": "markdown",
   "metadata": {},
   "source": [
    "5.  Избегайте использование более одного пробела вокруг оператора присваивания (или любого другого) для того, чтобы выровнять его с другим таким же оператором на соседней строке:"
   ]
  },
  {
   "cell_type": "markdown",
   "metadata": {},
   "source": [
    "```python\n",
    "# Correct:\n",
    "x = 1\n",
    "y = 2\n",
    "long_variable = 3\n",
    "\n",
    "# Wrong:\n",
    "x             = 1\n",
    "y             = 2\n",
    "long_variable = 3\n",
    "```"
   ]
  },
  {
   "cell_type": "markdown",
   "metadata": {},
   "source": [
    "6. Вседа окружайте эти бинарные операторы одним пробелом с каждой стороны: присваивание (=, +=, -= и прочие), сравнения (==, <, >, !=, <>, <=, >=, in, not in, is, is not), логические операторы (and, or, not). Ставьте пробелы вокруг арифметических операций. Если используются операторы с разным приоритетом, то лучше выделять пробелами операцию с наименьшим приоритетом"
   ]
  },
  {
   "cell_type": "markdown",
   "metadata": {},
   "source": [
    "```python\n",
    "# Correct:\n",
    "i = i + 1\n",
    "submitted += 1\n",
    "x = x*2 - 1\n",
    "hypot2 = x*x + y*y\n",
    "c = (a+b) * (a-b)\n",
    "\n",
    "# Wrong:\n",
    "i=i+1\n",
    "submitted +=1\n",
    "x = x * 2 - 1\n",
    "hypot2 = x * x + y * y\n",
    "c = (a + b) * (a - b)\n",
    "```"
   ]
  },
  {
   "cell_type": "markdown",
   "metadata": {},
   "source": [
    "7. Не используйте пробелы для отделения знака =, когда он употребляется для обозначения аргумента-ключа (keyword argument) или значения параметра по умолчанию"
   ]
  },
  {
   "cell_type": "markdown",
   "metadata": {},
   "source": [
    "```python\n",
    "# Correct:\n",
    "def complex(real, imag=0.0):\n",
    "    return magic(r=real, i=imag)\n",
    "\n",
    "# Wrong:\n",
    "def complex(real, imag = 0.0):\n",
    "    return magic(r = real, i = imag)\n",
    "```"
   ]
  },
  {
   "cell_type": "markdown",
   "metadata": {},
   "source": [
    "8. Не используйте составные инструкции (несколько команд в одной строке)."
   ]
  },
  {
   "cell_type": "markdown",
   "metadata": {},
   "source": [
    "```python\n",
    "# Correct:\n",
    "if foo == 'blah':\n",
    "    do_blah_thing()\n",
    "do_one()\n",
    "do_two()\n",
    "do_three()\n",
    "\n",
    "# Wrong:\n",
    "if foo == 'blah': do_blah_thing()\n",
    "do_one(); do_two(); do_three()\n",
    "```"
   ]
  },
  {
   "cell_type": "markdown",
   "metadata": {},
   "source": [
    "**Комментарии**\n",
    "\n",
    "* Старайтесь писать код так, чтобы к нему требовались минимальные комментарии\n",
    "* Комментарии, которые противоречат коду, хуже, чем отсутствие комментариев. Следите за актуальностью комментариев\n",
    "* Желательно придерживаться английского языка при написании комментариев\n",
    "* Комментарий не должен быть очевидным\n",
    "\n",
    "* Однострочные комментарии начинаются со знака решетки и пробела"
   ]
  },
  {
   "cell_type": "markdown",
   "metadata": {},
   "source": [
    "```python\n",
    "# Wrong:\n",
    "x = x + 1                 # Increment x\n",
    "\n",
    "# Correct:\n",
    "x = x + 1                 # Compensate for border\n",
    "```"
   ]
  },
  {
   "cell_type": "markdown",
   "metadata": {},
   "source": [
    "**Блок комментариев**\n",
    "\n",
    "* Блок комментариев обычно объясняет код (весь, или только некоторую часть), идущий после блока, и должен иметь тот же отступ, что и сам код. Каждая строчка такого блока должна начинаться с символа # и одного пробела после него (если только сам текст комментария не имеет отступа).\n",
    "\n",
    "* Абзацы внутри блока комментариев лучше отделять строкой, состоящей из одного символа #.\n",
    "* Отдельный вид комментариев - документирование (PEP 257 -- Docstring Conventions)"
   ]
  },
  {
   "cell_type": "markdown",
   "metadata": {},
   "source": [
    "**Импорты**\n",
    "\n",
    "Импортирование разных модулей должно быть на разных строчках"
   ]
  },
  {
   "cell_type": "markdown",
   "metadata": {},
   "source": [
    "```python\n",
    "# Correct:\n",
    "import os\n",
    "import sys\n",
    "\n",
    "# Wrong:\n",
    "import sys, os\n",
    "\n",
    "# Correct:\n",
    "from subprocess import Popen, PIPE\n",
    "```"
   ]
  },
  {
   "cell_type": "markdown",
   "metadata": {},
   "source": [
    "Старайтесь избегать импортов с *"
   ]
  },
  {
   "cell_type": "markdown",
   "metadata": {},
   "source": [
    "```python\n",
    "# Wrong:\n",
    "from numpy import *\n",
    "\n",
    "# Correct:\n",
    "import numpy as np\n",
    "```"
   ]
  },
  {
   "cell_type": "markdown",
   "metadata": {},
   "source": [
    "Импортирование всегда нужно делать сразу после комментариев к модулю и строк документации, перед объявлением глобальных переменных и констант.\n",
    "\n",
    "Группируйте импорты в следующем порядке:\n",
    "\n",
    "* импорты стандартной библиотеки\n",
    "* импорты сторонних библиотек\n",
    "* импорты модулей текущего проекта\n",
    "\n",
    "Вставляйте пустую строку между каждой группой импортов.\n",
    "\n"
   ]
  },
  {
   "cell_type": "markdown",
   "metadata": {},
   "source": [
    "#### 2. PEP-8: названия переменных"
   ]
  },
  {
   "cell_type": "markdown",
   "metadata": {},
   "source": [
    "**Главное правило**: Называйте переменные таким образом, чтобы для понимания кода не требовался комментарий"
   ]
  },
  {
   "cell_type": "markdown",
   "metadata": {},
   "source": [
    "* Не используйте в качестве имён встроенные (built-in) функции (list, id и т.д.) и ключевые слова\n",
    "* Не рекомендуется использовать литеры l, o , I в качестве переменных. \n",
    "* Вообще лучше отказаться от использования однобуквенных наименований"
   ]
  },
  {
   "cell_type": "markdown",
   "metadata": {},
   "source": [
    "Стили именования переменных:\n",
    "* b (одиночная маленькая буква)\n",
    "* B (одиночная заглавная буква)\n",
    "* lowercase (слово в нижнем регистре)\n",
    "* lower_case_with_underscores (слова из маленьких букв с подчеркиваниями)\n",
    "* UPPERCASE (заглавные буквы)\n",
    "* UPPERCASE_WITH_UNDERSCORES (слова из заглавных букв с подчеркиваниями)\n",
    "* CapitalizedWords (слова с заглавными буквами, или CapWords, или CamelCase 5. Иногда называется StudlyCaps). \n",
    "* mixedCase (отличается от CapitalizedWords тем, что первое слово начинается с маленькой буквы)\n",
    "* Capitalized_Words_With_Underscores (слова с заглавными буквами и подчеркиваниями)\n",
    "\n",
    "Ещё существует стиль, в котором имена, принадлежащие одной логической группе, имеют один короткий префикс"
   ]
  },
  {
   "cell_type": "markdown",
   "metadata": {},
   "source": [
    "**Правила именования переменных**"
   ]
  },
  {
   "cell_type": "markdown",
   "metadata": {},
   "source": [
    "![](Python06-best_practices_extra/naming.jpeg)"
   ]
  },
  {
   "cell_type": "markdown",
   "metadata": {},
   "source": [
    "**Подчеркивания**\n",
    "\n",
    "* Имена переменной или метода, начинающиеся с подчеркивания, например, _var, предназначены для внутреннего использования\n",
    "* Имена переменной или метода, заканчивающегося  подчеркиванием, например, var_, используют для избежания конфликта с ключевыми словами языка\n",
    "* Двойное подчеркивание в начале переменной, например, \\__var, используется для сокрытия приватных переменных при наследовании (name mangling) \n"
   ]
  },
  {
   "cell_type": "markdown",
   "metadata": {},
   "source": [
    "* Имена переменной или метода с двумя подчеркиваниями в начале и в конце, например, \\_\\_var\\_\\_, так называемые magic methods\n",
    "* Одиночное подчеркивание используется для несущественных переменных"
   ]
  },
  {
   "cell_type": "code",
   "execution_count": 2,
   "metadata": {},
   "outputs": [
    {
     "name": "stdout",
     "output_type": "stream",
     "text": [
      "Hello\n",
      "Hello\n",
      "Hello\n"
     ]
    }
   ],
   "source": [
    "for _ in range(3):\n",
    "    print('Hello')"
   ]
  },
  {
   "cell_type": "code",
   "execution_count": 3,
   "metadata": {},
   "outputs": [
    {
     "name": "stdout",
     "output_type": "stream",
     "text": [
      "2\n"
     ]
    }
   ],
   "source": [
    "print(_)"
   ]
  },
  {
   "cell_type": "code",
   "execution_count": 4,
   "metadata": {},
   "outputs": [
    {
     "name": "stdout",
     "output_type": "stream",
     "text": [
      "12\n"
     ]
    }
   ],
   "source": [
    "car = ('red', 'auto', 12, 3812.4)\n",
    "color, _, _, mileage = car\n",
    "print(_)"
   ]
  },
  {
   "cell_type": "markdown",
   "metadata": {},
   "source": [
    "**Общие соображения**\n",
    "\n",
    "* Разделяйте логику между функциями и классами\n",
    "* Если код вашего класса или функции занимает 1000 строк, скорее всего вы что-то делаете не так\n",
    "* Избегайте дублирования кода\n",
    "* Максимально переиспользуйте код"
   ]
  },
  {
   "cell_type": "markdown",
   "metadata": {},
   "source": [
    "Вопрос: Как начать следовать PEP8?\n",
    "\n",
    "Ответ: Включить проверку кода на соотвествие PEP8 в вашей любимой IDE или использовать пакет [pep8](https://pypi.org/project/pep8/)"
   ]
  },
  {
   "cell_type": "markdown",
   "metadata": {},
   "source": [
    "![](Python06-best_practices_extra/harry.jpg)\n",
    "\n",
    "# Вопросы?"
   ]
  },
  {
   "cell_type": "markdown",
   "metadata": {},
   "source": [
    "### Ошибки и исключения"
   ]
  },
  {
   "cell_type": "markdown",
   "metadata": {},
   "source": [
    "**Виды ошибок**:\n",
    "* Синтаксические\n",
    "* Критические ошибки, не позволяющие продолжить работу\n",
    "* Рядовые ошибки, с которыми программа может продолжить работу"
   ]
  },
  {
   "cell_type": "markdown",
   "metadata": {},
   "source": [
    "**Что такое исключения?**\n",
    "* Исключения - специальный механизм python для работы с ошибками\n",
    "* Прерывают нормальный ход исполнения программы и сообщают об исключительной ситуации\n",
    "* Дают возможность обработать ошибку и восстановить программу"
   ]
  },
  {
   "cell_type": "markdown",
   "metadata": {},
   "source": [
    "**Примеры исключительных ситуаций**\n",
    "\n",
    "* Файл не существует\n",
    "* В словаре нет нужного ключа\n",
    "* Деление на ноль\n",
    "* ..."
   ]
  },
  {
   "cell_type": "markdown",
   "metadata": {},
   "source": [
    "**[Иерархия исключений](https://docs.python.org/3/library/exceptions.html)**\n",
    "\n",
    "![](Python06-best_practices_extra/hierarchy.jpeg)"
   ]
  },
  {
   "cell_type": "markdown",
   "metadata": {},
   "source": [
    "**Синтаксис исключений**"
   ]
  },
  {
   "cell_type": "markdown",
   "metadata": {},
   "source": [
    "**try...except**"
   ]
  },
  {
   "cell_type": "code",
   "execution_count": 5,
   "metadata": {},
   "outputs": [
    {
     "name": "stdout",
     "output_type": "stream",
     "text": [
      "File 123 does not exist\n"
     ]
    }
   ],
   "source": [
    "filename='123'\n",
    "try:\n",
    "    df = open(filename, 'r')\n",
    "except FileNotFoundError:\n",
    "    print(\"File %s does not exist\" % filename)"
   ]
  },
  {
   "cell_type": "markdown",
   "metadata": {},
   "source": [
    "**try...except...except**"
   ]
  },
  {
   "cell_type": "code",
   "execution_count": 6,
   "metadata": {},
   "outputs": [
    {
     "name": "stdout",
     "output_type": "stream",
     "text": [
      "File 123 does not exist\n"
     ]
    }
   ],
   "source": [
    "filename='123'\n",
    "try:\n",
    "    df = open(filename, 'r')\n",
    "except FileNotFoundError:\n",
    "    print(\"File %s does not exist\" % filename)\n",
    "except Exception as e:\n",
    "    print(e)"
   ]
  },
  {
   "cell_type": "code",
   "execution_count": 7,
   "metadata": {},
   "outputs": [
    {
     "name": "stdout",
     "output_type": "stream",
     "text": [
      "File 123 does not exist\n"
     ]
    }
   ],
   "source": [
    "filename='123'\n",
    "try:\n",
    "    df = open(filename, 'r')\n",
    "except (TypeError, MemoryError) as e:\n",
    "    print('TypeError or MemoryError')\n",
    "except FileNotFoundError:\n",
    "    print(\"File %s does not exist\" % filename)"
   ]
  },
  {
   "cell_type": "markdown",
   "metadata": {},
   "source": [
    "**try...except...else...finally**"
   ]
  },
  {
   "cell_type": "code",
   "execution_count": 8,
   "metadata": {},
   "outputs": [
    {
     "name": "stdout",
     "output_type": "stream",
     "text": [
      "Everything is ok\n",
      "Finally block\n"
     ]
    }
   ],
   "source": [
    "filename='123'\n",
    "try:\n",
    "    x=1\n",
    "    #df = open(filename, 'r')\n",
    "except FileNotFoundError:\n",
    "    print(\"File %s does not exist\" % filename)\n",
    "else:\n",
    "    print('Everything is ok')\n",
    "finally:\n",
    "    print('Finally block')"
   ]
  },
  {
   "cell_type": "markdown",
   "metadata": {},
   "source": [
    "**Стратегии обработки ошибок**"
   ]
  },
  {
   "cell_type": "markdown",
   "metadata": {},
   "source": [
    "* Look before you leap\n",
    "* It's easier to ask for forgiveness than permission"
   ]
  },
  {
   "cell_type": "code",
   "execution_count": 9,
   "metadata": {},
   "outputs": [],
   "source": [
    "import os\n",
    "\n",
    "if os.path.exists(filename):\n",
    "    df = open(filename, 'r')\n",
    "else:\n",
    "    ..."
   ]
  },
  {
   "cell_type": "markdown",
   "metadata": {},
   "source": [
    "**Как бросить исключение**"
   ]
  },
  {
   "cell_type": "code",
   "execution_count": 10,
   "metadata": {},
   "outputs": [
    {
     "ename": "ValueError",
     "evalue": "Positive integer expected",
     "output_type": "error",
     "traceback": [
      "\u001b[0;31m---------------------------------------------------------------------------\u001b[0m",
      "\u001b[0;31mValueError\u001b[0m                                Traceback (most recent call last)",
      "Cell \u001b[0;32mIn[10], line 1\u001b[0m\n\u001b[0;32m----> 1\u001b[0m \u001b[38;5;28;01mraise\u001b[39;00m \u001b[38;5;167;01mValueError\u001b[39;00m(\u001b[38;5;124m'\u001b[39m\u001b[38;5;124mPositive integer expected\u001b[39m\u001b[38;5;124m'\u001b[39m)\n",
      "\u001b[0;31mValueError\u001b[0m: Positive integer expected"
     ]
    }
   ],
   "source": [
    "raise ValueError('Positive integer expected')"
   ]
  },
  {
   "cell_type": "code",
   "execution_count": 11,
   "metadata": {},
   "outputs": [
    {
     "ename": "TypeError",
     "evalue": "exceptions must derive from BaseException",
     "output_type": "error",
     "traceback": [
      "\u001b[0;31m---------------------------------------------------------------------------\u001b[0m",
      "\u001b[0;31mTypeError\u001b[0m                                 Traceback (most recent call last)",
      "Cell \u001b[0;32mIn[11], line 1\u001b[0m\n\u001b[0;32m----> 1\u001b[0m \u001b[38;5;28;01mraise\u001b[39;00m \u001b[38;5;241m123\u001b[39m \u001b[38;5;66;03m# должно быть наследником BaseException\u001b[39;00m\n",
      "\u001b[0;31mTypeError\u001b[0m: exceptions must derive from BaseException"
     ]
    }
   ],
   "source": [
    "raise 123 # должно быть наследником BaseException"
   ]
  },
  {
   "cell_type": "code",
   "execution_count": 12,
   "metadata": {},
   "outputs": [
    {
     "name": "stdout",
     "output_type": "stream",
     "text": [
      "Unknown error\n"
     ]
    },
    {
     "ename": "RuntimeError",
     "evalue": "Crash",
     "output_type": "error",
     "traceback": [
      "\u001b[0;31m---------------------------------------------------------------------------\u001b[0m",
      "\u001b[0;31mRuntimeError\u001b[0m                              Traceback (most recent call last)",
      "Cell \u001b[0;32mIn[12], line 2\u001b[0m\n\u001b[1;32m      1\u001b[0m \u001b[38;5;28;01mtry\u001b[39;00m:\n\u001b[0;32m----> 2\u001b[0m     \u001b[38;5;28;01mraise\u001b[39;00m \u001b[38;5;167;01mRuntimeError\u001b[39;00m(\u001b[38;5;124m'\u001b[39m\u001b[38;5;124mCrash\u001b[39m\u001b[38;5;124m'\u001b[39m)\n\u001b[1;32m      3\u001b[0m \u001b[38;5;28;01mexcept\u001b[39;00m:\n\u001b[1;32m      4\u001b[0m     \u001b[38;5;28mprint\u001b[39m(\u001b[38;5;124m'\u001b[39m\u001b[38;5;124mUnknown error\u001b[39m\u001b[38;5;124m'\u001b[39m)\n",
      "\u001b[0;31mRuntimeError\u001b[0m: Crash"
     ]
    }
   ],
   "source": [
    "try:\n",
    "    raise RuntimeError('Crash')\n",
    "except:\n",
    "    print('Unknown error')\n",
    "    raise"
   ]
  },
  {
   "cell_type": "code",
   "execution_count": 13,
   "metadata": {},
   "outputs": [
    {
     "ename": "RuntimeError",
     "evalue": "No active exception to reraise",
     "output_type": "error",
     "traceback": [
      "\u001b[0;31m---------------------------------------------------------------------------\u001b[0m",
      "\u001b[0;31mRuntimeError\u001b[0m                              Traceback (most recent call last)",
      "Cell \u001b[0;32mIn[13], line 1\u001b[0m\n\u001b[0;32m----> 1\u001b[0m \u001b[38;5;28;01mraise\u001b[39;00m\n",
      "\u001b[0;31mRuntimeError\u001b[0m: No active exception to reraise"
     ]
    }
   ],
   "source": [
    "raise"
   ]
  },
  {
   "cell_type": "markdown",
   "metadata": {},
   "source": [
    "**AssertionError**\n",
    "\n",
    "Используется в случае, если мы хотим, чтобы при не выполнении условий программа сломалась"
   ]
  },
  {
   "cell_type": "code",
   "execution_count": 14,
   "metadata": {},
   "outputs": [
    {
     "ename": "AssertionError",
     "evalue": "Error",
     "output_type": "error",
     "traceback": [
      "\u001b[0;31m---------------------------------------------------------------------------\u001b[0m",
      "\u001b[0;31mAssertionError\u001b[0m                            Traceback (most recent call last)",
      "Cell \u001b[0;32mIn[14], line 3\u001b[0m\n\u001b[1;32m      1\u001b[0m \u001b[38;5;28;01massert\u001b[39;00m \u001b[38;5;241m3\u001b[39m\u001b[38;5;241m==\u001b[39m\u001b[38;5;241m1\u001b[39m\u001b[38;5;241m+\u001b[39m\u001b[38;5;241m2\u001b[39m, \u001b[38;5;124m'\u001b[39m\u001b[38;5;124mNo error\u001b[39m\u001b[38;5;124m'\u001b[39m\n\u001b[0;32m----> 3\u001b[0m \u001b[38;5;28;01massert\u001b[39;00m \u001b[38;5;241m3\u001b[39m\u001b[38;5;241m==\u001b[39m\u001b[38;5;241m2\u001b[39m, \u001b[38;5;124m'\u001b[39m\u001b[38;5;124mError\u001b[39m\u001b[38;5;124m'\u001b[39m\n",
      "\u001b[0;31mAssertionError\u001b[0m: Error"
     ]
    }
   ],
   "source": [
    "assert 3==1+2, 'No error'\n",
    "\n",
    "assert 3==2, 'Error'"
   ]
  },
  {
   "cell_type": "code",
   "execution_count": 15,
   "metadata": {},
   "outputs": [
    {
     "ename": "AssertionError",
     "evalue": "Error",
     "output_type": "error",
     "traceback": [
      "\u001b[0;31m---------------------------------------------------------------------------\u001b[0m",
      "\u001b[0;31mAssertionError\u001b[0m                            Traceback (most recent call last)",
      "Cell \u001b[0;32mIn[15], line 3\u001b[0m\n\u001b[1;32m      1\u001b[0m x \u001b[38;5;241m=\u001b[39m \u001b[38;5;241m1\u001b[39m\n\u001b[0;32m----> 3\u001b[0m \u001b[38;5;28;01massert\u001b[39;00m \u001b[38;5;28misinstance\u001b[39m(x, \u001b[38;5;28mlist\u001b[39m), \u001b[38;5;124m'\u001b[39m\u001b[38;5;124mError\u001b[39m\u001b[38;5;124m'\u001b[39m\n",
      "\u001b[0;31mAssertionError\u001b[0m: Error"
     ]
    }
   ],
   "source": [
    "x = 1\n",
    "\n",
    "assert isinstance(x, list), 'Error'"
   ]
  },
  {
   "cell_type": "markdown",
   "metadata": {},
   "source": [
    "**Как сделать кастомное исключение**"
   ]
  },
  {
   "cell_type": "code",
   "execution_count": 16,
   "metadata": {},
   "outputs": [
    {
     "ename": "SalaryNotInRangeError",
     "evalue": "100000 -> Salary is not in (5000, 15000) range",
     "output_type": "error",
     "traceback": [
      "\u001b[0;31m---------------------------------------------------------------------------\u001b[0m",
      "\u001b[0;31mSalaryNotInRangeError\u001b[0m                     Traceback (most recent call last)",
      "Cell \u001b[0;32mIn[16], line 20\u001b[0m\n\u001b[1;32m     18\u001b[0m salary \u001b[38;5;241m=\u001b[39m \u001b[38;5;241m100000\u001b[39m \u001b[38;5;66;03m# int(input(\"Enter salary amount: \"))\u001b[39;00m\n\u001b[1;32m     19\u001b[0m \u001b[38;5;28;01mif\u001b[39;00m \u001b[38;5;129;01mnot\u001b[39;00m \u001b[38;5;241m5000\u001b[39m \u001b[38;5;241m<\u001b[39m salary \u001b[38;5;241m<\u001b[39m \u001b[38;5;241m15000\u001b[39m:\n\u001b[0;32m---> 20\u001b[0m     \u001b[38;5;28;01mraise\u001b[39;00m SalaryNotInRangeError(salary)\n",
      "\u001b[0;31mSalaryNotInRangeError\u001b[0m: 100000 -> Salary is not in (5000, 15000) range"
     ]
    }
   ],
   "source": [
    "class SalaryNotInRangeError(Exception):\n",
    "    \"\"\"Exception raised for errors in the input salary.\n",
    "\n",
    "    Attributes:\n",
    "        salary -- input salary which caused the error\n",
    "        message -- explanation of the error\n",
    "    \"\"\"\n",
    "\n",
    "    def __init__(self, salary, message=\"Salary is not in (5000, 15000) range\"):\n",
    "        self.salary = salary\n",
    "        self.message = message\n",
    "        super().__init__(self.message)\n",
    "\n",
    "    def __str__(self):\n",
    "        return f'{self.salary} -> {self.message}'\n",
    "\n",
    "\n",
    "salary = 100000 # int(input(\"Enter salary amount: \"))\n",
    "if not 5000 < salary < 15000:\n",
    "    raise SalaryNotInRangeError(salary)"
   ]
  },
  {
   "cell_type": "markdown",
   "metadata": {},
   "source": [
    "**Лучшие практики**\n",
    "\n",
    "* Старайтесь максимально конкретизировать исключения в Except\n",
    "* Простое написание 'except:' также перехватит и SystemExit, и KeyboardInterrupt, что породит проблемы, например, сложнее будет завершить программу нажатием control+C. Если вы действительно собираетесь перехватить все исключения, пишите 'except Exception:'."
   ]
  },
  {
   "cell_type": "code",
   "execution_count": 17,
   "metadata": {},
   "outputs": [],
   "source": [
    "try:\n",
    "    import platform_specific_module\n",
    "except ImportError:\n",
    "    platform_specific_module = None"
   ]
  },
  {
   "cell_type": "code",
   "execution_count": 18,
   "metadata": {},
   "outputs": [],
   "source": [
    "# Wrong:\n",
    "try:\n",
    "    i=1\n",
    "except:\n",
    "    pass"
   ]
  },
  {
   "cell_type": "code",
   "execution_count": 19,
   "metadata": {},
   "outputs": [],
   "source": [
    "# Wrong:\n",
    "try:\n",
    "    i=1\n",
    "except BaseException:\n",
    "    pass"
   ]
  },
  {
   "cell_type": "markdown",
   "metadata": {},
   "source": [
    "Ограничьтесь использованием чистого 'except:' в двух случаях:\n",
    "\n",
    "1. Если обработчик исключения выводит пользователю всё о случившейся ошибке (например, traceback)\n",
    "\n",
    "2. Если нужно выполнить некоторый код после перехвата исключения, а потом вновь «бросить» его для обработки где-то в другом месте. Обычно же лучше пользоваться конструкцией 'try...finally'."
   ]
  },
  {
   "cell_type": "markdown",
   "metadata": {},
   "source": [
    "Постарайтесь заключать в каждую конструкцию try...except минимум кода, чтобы легче отлавливать ошибки."
   ]
  },
  {
   "cell_type": "markdown",
   "metadata": {},
   "source": [
    "```python\n",
    "try: \n",
    "    value = collection[key] \n",
    "except KeyError: \n",
    "    return key_not_found(key) \n",
    "else: \n",
    "    return handle_value(value) \n",
    "\n",
    "try: \n",
    "    # Здесь много действий!\n",
    "    return handle_value(collection[key]) \n",
    "except KeyError: \n",
    "    # Здесь также перехватится KeyError, сгенерированный handle_value() \n",
    "    return key_not_found(key)\n",
    "```"
   ]
  },
  {
   "cell_type": "markdown",
   "metadata": {},
   "source": [
    "Так как исключения являются классами, к исключениями применяется стиль именования классов. Однако вы можете добавить Error в конце имени (если конечно исключение действительно является ошибкой)."
   ]
  },
  {
   "cell_type": "markdown",
   "metadata": {},
   "source": [
    "### Контекстные менеджеры"
   ]
  },
  {
   "cell_type": "code",
   "execution_count": 20,
   "metadata": {},
   "outputs": [],
   "source": [
    "f = open('hello.txt', 'w')\n",
    "f.write('hello')\n",
    "f.close()"
   ]
  },
  {
   "cell_type": "code",
   "execution_count": 21,
   "metadata": {},
   "outputs": [],
   "source": [
    "f = open('hello.txt', 'w')\n",
    "try:\n",
    "    f.write('hello')\n",
    "finally:\n",
    "    f.close()"
   ]
  },
  {
   "cell_type": "code",
   "execution_count": 22,
   "metadata": {},
   "outputs": [],
   "source": [
    "with open('hello.txt', 'w') as f:\n",
    "    f.write('hello')"
   ]
  },
  {
   "cell_type": "markdown",
   "metadata": {},
   "source": [
    "```python\n",
    "with first() as f, second() as s:\n",
    "    do(f,s)\n",
    "    \n",
    "#same\n",
    "with first() as f:\n",
    "    with second as s:\n",
    "        do(f,s)\n",
    "```"
   ]
  },
  {
   "cell_type": "markdown",
   "metadata": {},
   "source": [
    "**Интерфейс контекстного менеджера**"
   ]
  },
  {
   "cell_type": "code",
   "execution_count": 24,
   "metadata": {},
   "outputs": [],
   "source": [
    "class ManagedFile:\n",
    "    def __init__(self, name):\n",
    "        self.name = name\n",
    " \n",
    "    def __enter__(self):\n",
    "        self.file = open(self.name, 'w')\n",
    "        return self.file\n",
    " \n",
    "    def __exit__(self, exc_type, exc_val, exc_tb):\n",
    "        if self.file:\n",
    "            self.file.close()\n",
    "        if exc_value is not None:\n",
    "            return True"
   ]
  },
  {
   "cell_type": "markdown",
   "metadata": {},
   "source": [
    "**Семантика**"
   ]
  },
  {
   "cell_type": "markdown",
   "metadata": {},
   "source": [
    "```python\n",
    "with acquire_resource() as resource:\n",
    "    use(resource)\n",
    "```"
   ]
  },
  {
   "cell_type": "markdown",
   "metadata": {},
   "source": [
    "```python\n",
    "manager = acquire_resource()\n",
    "resource = manager.__enter__()\n",
    "try:\n",
    "    use(resource)\n",
    "finally:\n",
    "    exc_type, exc_valur, traceback = sys.ext_info()\n",
    "    supress = manager.__exit__(exc_type, exc_valur, traceback)\n",
    "    if exc_value is not none and not suppress:\n",
    "        raise exc_value\n",
    "```"
   ]
  },
  {
   "cell_type": "markdown",
   "metadata": {},
   "source": [
    "sys.exc_info() - возвращает кортеж из трех значений, которые дают информацию об исключениях, обрабатывающихся в данный момент."
   ]
  },
  {
   "cell_type": "code",
   "execution_count": 26,
   "metadata": {},
   "outputs": [],
   "source": [
    "class Indenter:\n",
    "    def __init__(self):\n",
    "        self.level = 0\n",
    "    \n",
    "    def __enter__(self):\n",
    "        self.level += 1\n",
    "        return self\n",
    "    \n",
    "    def __exit__(self, exc_type, exc_val, exc_tb):\n",
    "        self.level -= 1\n",
    "    \n",
    "    def print(self, text):\n",
    "        print(' ' * self.level + text)"
   ]
  },
  {
   "cell_type": "code",
   "execution_count": 27,
   "metadata": {},
   "outputs": [
    {
     "name": "stdout",
     "output_type": "stream",
     "text": [
      " hi!\n",
      "  hello\n",
      "   bonjour\n",
      " hey\n"
     ]
    }
   ],
   "source": [
    "with Indenter() as indent:\n",
    "    indent.print('hi!')\n",
    "    with indent:\n",
    "        indent.print('hello')\n",
    "        with indent:\n",
    "            indent.print('bonjour')\n",
    "    indent.print('hey')"
   ]
  },
  {
   "cell_type": "markdown",
   "metadata": {},
   "source": [
    "Менеджеры контекста должны вызываться через отдельные функции или методы всякий раз, когда они делают что-то, кроме получения и освобождения ресурсов:"
   ]
  },
  {
   "cell_type": "markdown",
   "metadata": {},
   "source": [
    "```python\n",
    "# Correct:\n",
    "with conn.begin_transaction():\n",
    "    do_stuff_in_transaction(conn)\n",
    "    \n",
    "# Wrong:\n",
    "with conn:\n",
    "    do_stuff_in_transaction(conn)\n",
    "```"
   ]
  },
  {
   "cell_type": "markdown",
   "metadata": {},
   "source": [
    "### Функции dir и help, документирование"
   ]
  },
  {
   "cell_type": "markdown",
   "metadata": {},
   "source": [
    "Встроенная функция dir() позволяет получить список аттрибутов объекта (модуля, класса)"
   ]
  },
  {
   "cell_type": "code",
   "execution_count": 28,
   "metadata": {},
   "outputs": [
    {
     "data": {
      "text/plain": [
       "['BitGenerator',\n",
       " 'Generator',\n",
       " 'MT19937',\n",
       " 'PCG64',\n",
       " 'PCG64DXSM',\n",
       " 'Philox',\n",
       " 'RandomState',\n",
       " 'SFC64',\n",
       " 'SeedSequence',\n",
       " '__RandomState_ctor',\n",
       " '__all__',\n",
       " '__builtins__',\n",
       " '__cached__',\n",
       " '__doc__',\n",
       " '__file__',\n",
       " '__loader__',\n",
       " '__name__',\n",
       " '__package__',\n",
       " '__path__',\n",
       " '__spec__',\n",
       " '_bounded_integers',\n",
       " '_common',\n",
       " '_generator',\n",
       " '_mt19937',\n",
       " '_pcg64',\n",
       " '_philox',\n",
       " '_pickle',\n",
       " '_sfc64',\n",
       " 'beta',\n",
       " 'binomial',\n",
       " 'bit_generator',\n",
       " 'bytes',\n",
       " 'chisquare',\n",
       " 'choice',\n",
       " 'default_rng',\n",
       " 'dirichlet',\n",
       " 'exponential',\n",
       " 'f',\n",
       " 'gamma',\n",
       " 'geometric',\n",
       " 'get_bit_generator',\n",
       " 'get_state',\n",
       " 'gumbel',\n",
       " 'hypergeometric',\n",
       " 'laplace',\n",
       " 'logistic',\n",
       " 'lognormal',\n",
       " 'logseries',\n",
       " 'mtrand',\n",
       " 'multinomial',\n",
       " 'multivariate_normal',\n",
       " 'negative_binomial',\n",
       " 'noncentral_chisquare',\n",
       " 'noncentral_f',\n",
       " 'normal',\n",
       " 'pareto',\n",
       " 'permutation',\n",
       " 'poisson',\n",
       " 'power',\n",
       " 'rand',\n",
       " 'randint',\n",
       " 'randn',\n",
       " 'random',\n",
       " 'random_integers',\n",
       " 'random_sample',\n",
       " 'ranf',\n",
       " 'rayleigh',\n",
       " 'sample',\n",
       " 'seed',\n",
       " 'set_bit_generator',\n",
       " 'set_state',\n",
       " 'shuffle',\n",
       " 'standard_cauchy',\n",
       " 'standard_exponential',\n",
       " 'standard_gamma',\n",
       " 'standard_normal',\n",
       " 'standard_t',\n",
       " 'test',\n",
       " 'triangular',\n",
       " 'uniform',\n",
       " 'vonmises',\n",
       " 'wald',\n",
       " 'weibull',\n",
       " 'zipf']"
      ]
     },
     "execution_count": 28,
     "metadata": {},
     "output_type": "execute_result"
    }
   ],
   "source": [
    "import numpy as np\n",
    "dir(np.random)"
   ]
  },
  {
   "cell_type": "markdown",
   "metadata": {},
   "source": [
    "Встроенная функция help() позволяет напечатать документацию данного объекта (модуля, класса, функции)."
   ]
  },
  {
   "cell_type": "code",
   "execution_count": 29,
   "metadata": {},
   "outputs": [
    {
     "name": "stdout",
     "output_type": "stream",
     "text": [
      "Help on method randint in module numpy.random.mtrand:\n",
      "\n",
      "randint(low, high=None, size=None, dtype=<class 'int'>) method of numpy.random.mtrand.RandomState instance\n",
      "    randint(low, high=None, size=None, dtype=int)\n",
      "    \n",
      "    Return random integers from `low` (inclusive) to `high` (exclusive).\n",
      "    \n",
      "    Return random integers from the \"discrete uniform\" distribution of\n",
      "    the specified dtype in the \"half-open\" interval [`low`, `high`). If\n",
      "    `high` is None (the default), then results are from [0, `low`).\n",
      "    \n",
      "    .. note::\n",
      "        New code should use the `~numpy.random.Generator.integers`\n",
      "        method of a `~numpy.random.Generator` instance instead;\n",
      "        please see the :ref:`random-quick-start`.\n",
      "    \n",
      "    Parameters\n",
      "    ----------\n",
      "    low : int or array-like of ints\n",
      "        Lowest (signed) integers to be drawn from the distribution (unless\n",
      "        ``high=None``, in which case this parameter is one above the\n",
      "        *highest* such integer).\n",
      "    high : int or array-like of ints, optional\n",
      "        If provided, one above the largest (signed) integer to be drawn\n",
      "        from the distribution (see above for behavior if ``high=None``).\n",
      "        If array-like, must contain integer values\n",
      "    size : int or tuple of ints, optional\n",
      "        Output shape.  If the given shape is, e.g., ``(m, n, k)``, then\n",
      "        ``m * n * k`` samples are drawn.  Default is None, in which case a\n",
      "        single value is returned.\n",
      "    dtype : dtype, optional\n",
      "        Desired dtype of the result. Byteorder must be native.\n",
      "        The default value is long.\n",
      "    \n",
      "        .. versionadded:: 1.11.0\n",
      "    \n",
      "        .. warning::\n",
      "          This function defaults to the C-long dtype, which is 32bit on windows\n",
      "          and otherwise 64bit on 64bit platforms (and 32bit on 32bit ones).\n",
      "          Since NumPy 2.0, NumPy's default integer is 32bit on 32bit platforms\n",
      "          and 64bit on 64bit platforms.  Which corresponds to `np.intp`.\n",
      "          (`dtype=int` is not the same as in most NumPy functions.)\n",
      "    \n",
      "    Returns\n",
      "    -------\n",
      "    out : int or ndarray of ints\n",
      "        `size`-shaped array of random integers from the appropriate\n",
      "        distribution, or a single such random int if `size` not provided.\n",
      "    \n",
      "    See Also\n",
      "    --------\n",
      "    random_integers : similar to `randint`, only for the closed\n",
      "        interval [`low`, `high`], and 1 is the lowest value if `high` is\n",
      "        omitted.\n",
      "    random.Generator.integers: which should be used for new code.\n",
      "    \n",
      "    Examples\n",
      "    --------\n",
      "    >>> np.random.randint(2, size=10)\n",
      "    array([1, 0, 0, 0, 1, 1, 0, 0, 1, 0]) # random\n",
      "    >>> np.random.randint(1, size=10)\n",
      "    array([0, 0, 0, 0, 0, 0, 0, 0, 0, 0])\n",
      "    \n",
      "    Generate a 2 x 4 array of ints between 0 and 4, inclusive:\n",
      "    \n",
      "    >>> np.random.randint(5, size=(2, 4))\n",
      "    array([[4, 0, 2, 1], # random\n",
      "           [3, 2, 2, 0]])\n",
      "    \n",
      "    Generate a 1 x 3 array with 3 different upper bounds\n",
      "    \n",
      "    >>> np.random.randint(1, [3, 5, 10])\n",
      "    array([2, 2, 9]) # random\n",
      "    \n",
      "    Generate a 1 by 3 array with 3 different lower bounds\n",
      "    \n",
      "    >>> np.random.randint([1, 5, 7], 10)\n",
      "    array([9, 8, 7]) # random\n",
      "    \n",
      "    Generate a 2 by 4 array using broadcasting with dtype of uint8\n",
      "    \n",
      "    >>> np.random.randint([1, 3, 5, 7], [[10], [20]], dtype=np.uint8)\n",
      "    array([[ 8,  6,  9,  7], # random\n",
      "           [ 1, 16,  9, 12]], dtype=uint8)\n",
      "\n"
     ]
    }
   ],
   "source": [
    "help(np.random.randint)"
   ]
  },
  {
   "cell_type": "markdown",
   "metadata": {},
   "source": [
    "Задокументировать объект можно с помощью так называемых \"docstring\" - строковых литералов, идущих сразу после объявления объекта."
   ]
  },
  {
   "cell_type": "code",
   "execution_count": 30,
   "metadata": {},
   "outputs": [],
   "source": [
    "def compl(real=0.0, imag=0.0):\n",
    "    \"\"\"Form a complex number.\n",
    "\n",
    "    Keyword arguments:\n",
    "    real -- the real part (default 0.0)\n",
    "    imag -- the imaginary part (default 0.0)\n",
    "    \"\"\"\n",
    "    if imag == 0.0 and real == 0.0: return complex_zero\n",
    "    ..."
   ]
  },
  {
   "cell_type": "code",
   "execution_count": 31,
   "metadata": {},
   "outputs": [
    {
     "name": "stdout",
     "output_type": "stream",
     "text": [
      "Form a complex number.\n",
      "\n",
      "    Keyword arguments:\n",
      "    real -- the real part (default 0.0)\n",
      "    imag -- the imaginary part (default 0.0)\n",
      "    \n"
     ]
    }
   ],
   "source": [
    "print(compl.__doc__)"
   ]
  },
  {
   "cell_type": "code",
   "execution_count": 32,
   "metadata": {},
   "outputs": [
    {
     "name": "stdout",
     "output_type": "stream",
     "text": [
      "Help on function compl in module __main__:\n",
      "\n",
      "compl(real=0.0, imag=0.0)\n",
      "    Form a complex number.\n",
      "    \n",
      "    Keyword arguments:\n",
      "    real -- the real part (default 0.0)\n",
      "    imag -- the imaginary part (default 0.0)\n",
      "\n"
     ]
    }
   ],
   "source": [
    "help(compl)"
   ]
  },
  {
   "cell_type": "code",
   "execution_count": 33,
   "metadata": {},
   "outputs": [],
   "source": [
    "class AClass:\n",
    "    \"\"\"This is AClass's docstring.\"\"\"\n",
    "    \n",
    "    c = 'class attribute'\n",
    "\n",
    "    def __init__(self):\n",
    "        \"\"\"Method __init__'s docstring.\"\"\"\n",
    "\n",
    "        self.i = 'instance attribute'\n",
    "        \"\"\"This is self.i's docstring.\"\"\"\n",
    "\n",
    "    def f(x):\n",
    "        \"\"\"Function f's docstring.\"\"\"\n",
    "        return x**2"
   ]
  },
  {
   "cell_type": "code",
   "execution_count": 34,
   "metadata": {},
   "outputs": [
    {
     "name": "stdout",
     "output_type": "stream",
     "text": [
      "Help on class AClass in module __main__:\n",
      "\n",
      "class AClass(builtins.object)\n",
      " |  This is AClass's docstring.\n",
      " |  \n",
      " |  Methods defined here:\n",
      " |  \n",
      " |  __init__(self)\n",
      " |      Method __init__'s docstring.\n",
      " |  \n",
      " |  f(x)\n",
      " |      Function f's docstring.\n",
      " |  \n",
      " |  ----------------------------------------------------------------------\n",
      " |  Data descriptors defined here:\n",
      " |  \n",
      " |  __dict__\n",
      " |      dictionary for instance variables\n",
      " |  \n",
      " |  __weakref__\n",
      " |      list of weak references to the object\n",
      " |  \n",
      " |  ----------------------------------------------------------------------\n",
      " |  Data and other attributes defined here:\n",
      " |  \n",
      " |  c = 'class attribute'\n",
      "\n"
     ]
    }
   ],
   "source": [
    "help(AClass)"
   ]
  },
  {
   "cell_type": "markdown",
   "metadata": {},
   "source": [
    "### \\_\\_file\\_\\_"
   ]
  },
  {
   "cell_type": "markdown",
   "metadata": {},
   "source": [
    "\\_\\_file\\_\\_ - абсолютный путь к данному модулю.\n",
    "\n",
    "Знать этот путь бывает чрезвычайно полезно при отладке программ: из правильного ли места вы импортируете модуль?"
   ]
  },
  {
   "cell_type": "code",
   "execution_count": 35,
   "metadata": {},
   "outputs": [
    {
     "data": {
      "text/plain": [
       "'/home/vladimir/miniconda3/lib/python3.11/site-packages/numpy/__init__.py'"
      ]
     },
     "execution_count": 35,
     "metadata": {},
     "output_type": "execute_result"
    }
   ],
   "source": [
    "import numpy as np\n",
    "np.__file__"
   ]
  },
  {
   "cell_type": "markdown",
   "metadata": {},
   "source": [
    "### Работа с путями: os.path\n",
    "\n",
    "join() - правильное (с точки зрения платформы) объединение путей\n",
    "\n",
    "exists() - проверка существования файла\n",
    "\n",
    "basename() - собственное имя файла или папки\n",
    "\n",
    "isfile() - является ли данный объект файлом?\n",
    "\n",
    "isdir() - является ли данный объект директорией?"
   ]
  },
  {
   "cell_type": "code",
   "execution_count": 36,
   "metadata": {},
   "outputs": [],
   "source": [
    "import os"
   ]
  },
  {
   "cell_type": "code",
   "execution_count": 37,
   "metadata": {},
   "outputs": [
    {
     "name": "stdout",
     "output_type": "stream",
     "text": [
      "first/second/1\n"
     ]
    }
   ],
   "source": [
    "path = os.path.join('first', 'second', '1')\n",
    "print(path)\n",
    "\n",
    "if not os.path.exists(path):\n",
    "    os.makedirs(path)"
   ]
  },
  {
   "cell_type": "code",
   "execution_count": 38,
   "metadata": {},
   "outputs": [
    {
     "name": "stdout",
     "output_type": "stream",
     "text": [
      "1\n"
     ]
    }
   ],
   "source": [
    "!ls first/second/"
   ]
  },
  {
   "cell_type": "code",
   "execution_count": 39,
   "metadata": {},
   "outputs": [],
   "source": [
    "file_path = os.path.join(path, '1')"
   ]
  },
  {
   "cell_type": "code",
   "execution_count": 40,
   "metadata": {},
   "outputs": [
    {
     "name": "stdout",
     "output_type": "stream",
     "text": [
      "first/second/1/1\n"
     ]
    }
   ],
   "source": [
    "print(file_path)"
   ]
  },
  {
   "cell_type": "code",
   "execution_count": 41,
   "metadata": {},
   "outputs": [
    {
     "data": {
      "text/plain": [
       "'1'"
      ]
     },
     "execution_count": 41,
     "metadata": {},
     "output_type": "execute_result"
    }
   ],
   "source": [
    "os.path.basename(file_path)"
   ]
  },
  {
   "cell_type": "code",
   "execution_count": 42,
   "metadata": {},
   "outputs": [],
   "source": [
    "# file_path.split(\"/\")[-1] # Тоже самое, но только для *nix"
   ]
  },
  {
   "cell_type": "code",
   "execution_count": 43,
   "metadata": {},
   "outputs": [
    {
     "name": "stdout",
     "output_type": "stream",
     "text": [
      "first\t\t\tPython02-basics2.ipynb\n",
      "hello.txt\t\tPython03-OOP_extra\n",
      "knn.ipynb\t\tPython03-OOP.ipynb\n",
      "knn_reference.ipynb\tPython04-Numpy_extra\n",
      "main\t\t\tPython04-Numpy.ipynb\n",
      "my_b_none.txt\t\tPython05-pandas_extra\n",
      "my_b.npy\t\tPython05-pandas.ipynb\n",
      "my_b.txt\t\tPython06-best_practices_extra\n",
      "naivebayes_test.ipynb\tPython06-best_practices.ipynb\n",
      "naivebayes_test.py\tREADME.md\n",
      "Python01-basics_extra\tscores1.txt\n",
      "Python01-basics.ipynb\tscores.txt\n",
      "Python02-basics2_extra\tver0_naive_bayes_classifier_02.ipynb\n"
     ]
    }
   ],
   "source": [
    "!ls"
   ]
  },
  {
   "cell_type": "code",
   "execution_count": 44,
   "metadata": {},
   "outputs": [],
   "source": [
    "dirname = '.'"
   ]
  },
  {
   "cell_type": "code",
   "execution_count": 45,
   "metadata": {},
   "outputs": [
    {
     "data": {
      "text/plain": [
       "['knn.ipynb',\n",
       " 'Python02-basics2.ipynb',\n",
       " 'naivebayes_test.py',\n",
       " 'Python04-Numpy.ipynb',\n",
       " 'knn_reference.ipynb',\n",
       " 'Python03-OOP.ipynb',\n",
       " 'Python01-basics.ipynb',\n",
       " 'README.md',\n",
       " 'my_b.txt',\n",
       " 'Python05-pandas.ipynb',\n",
       " 'hello.txt',\n",
       " 'scores1.txt',\n",
       " 'my_b.npy',\n",
       " 'naivebayes_test.ipynb',\n",
       " 'scores.txt',\n",
       " 'main',\n",
       " 'my_b_none.txt',\n",
       " 'Python06-best_practices.ipynb',\n",
       " 'ver0_naive_bayes_classifier_02.ipynb']"
      ]
     },
     "execution_count": 45,
     "metadata": {},
     "output_type": "execute_result"
    }
   ],
   "source": [
    "[f for f  in os.listdir(dirname) if os.path.isfile(os.path.join(dirname, f))]"
   ]
  },
  {
   "cell_type": "code",
   "execution_count": 46,
   "metadata": {},
   "outputs": [
    {
     "data": {
      "text/plain": [
       "['Python02-basics2_extra',\n",
       " 'first',\n",
       " 'Python03-OOP_extra',\n",
       " 'Python04-Numpy_extra',\n",
       " 'Python01-basics_extra',\n",
       " 'Python05-pandas_extra',\n",
       " 'Python06-best_practices_extra',\n",
       " '.git',\n",
       " '.ipynb_checkpoints']"
      ]
     },
     "execution_count": 46,
     "metadata": {},
     "output_type": "execute_result"
    }
   ],
   "source": [
    "[f for f  in os.listdir(dirname) if os.path.isdir(os.path.join(dirname, f))]"
   ]
  },
  {
   "cell_type": "code",
   "execution_count": 47,
   "metadata": {},
   "outputs": [
    {
     "name": "stdout",
     "output_type": "stream",
     "text": [
      "Help on module posixpath:\n",
      "\n",
      "NAME\n",
      "    posixpath - Common operations on Posix pathnames.\n",
      "\n",
      "MODULE REFERENCE\n",
      "    https://docs.python.org/3.11/library/posixpath.html\n",
      "    \n",
      "    The following documentation is automatically generated from the Python\n",
      "    source files.  It may be incomplete, incorrect or include features that\n",
      "    are considered implementation detail and may vary between Python\n",
      "    implementations.  When in doubt, consult the module reference at the\n",
      "    location listed above.\n",
      "\n",
      "DESCRIPTION\n",
      "    Instead of importing this module directly, import os and refer to\n",
      "    this module as os.path.  The \"os.path\" name is an alias for this\n",
      "    module on Posix systems; on other systems (e.g. Windows),\n",
      "    os.path provides the same operations in a manner specific to that\n",
      "    platform, and is an alias to another module (e.g. ntpath).\n",
      "    \n",
      "    Some of this can actually be useful on non-Posix systems too, e.g.\n",
      "    for manipulation of the pathname component of URLs.\n",
      "\n",
      "FUNCTIONS\n",
      "    abspath(path)\n",
      "        Return an absolute path.\n",
      "    \n",
      "    basename(p)\n",
      "        Returns the final component of a pathname\n",
      "    \n",
      "    commonpath(paths)\n",
      "        Given a sequence of path names, returns the longest common sub-path.\n",
      "    \n",
      "    commonprefix(m)\n",
      "        Given a list of pathnames, returns the longest common leading component\n",
      "    \n",
      "    dirname(p)\n",
      "        Returns the directory component of a pathname\n",
      "    \n",
      "    exists(path)\n",
      "        Test whether a path exists.  Returns False for broken symbolic links\n",
      "    \n",
      "    expanduser(path)\n",
      "        Expand ~ and ~user constructions.  If user or $HOME is unknown,\n",
      "        do nothing.\n",
      "    \n",
      "    expandvars(path)\n",
      "        Expand shell variables of form $var and ${var}.  Unknown variables\n",
      "        are left unchanged.\n",
      "    \n",
      "    getatime(filename)\n",
      "        Return the last access time of a file, reported by os.stat().\n",
      "    \n",
      "    getctime(filename)\n",
      "        Return the metadata change time of a file, reported by os.stat().\n",
      "    \n",
      "    getmtime(filename)\n",
      "        Return the last modification time of a file, reported by os.stat().\n",
      "    \n",
      "    getsize(filename)\n",
      "        Return the size of a file, reported by os.stat().\n",
      "    \n",
      "    isabs(s)\n",
      "        Test whether a path is absolute\n",
      "    \n",
      "    isdir(s)\n",
      "        Return true if the pathname refers to an existing directory.\n",
      "    \n",
      "    isfile(path)\n",
      "        Test whether a path is a regular file\n",
      "    \n",
      "    islink(path)\n",
      "        Test whether a path is a symbolic link\n",
      "    \n",
      "    ismount(path)\n",
      "        Test whether a path is a mount point\n",
      "    \n",
      "    join(a, *p)\n",
      "        Join two or more pathname components, inserting '/' as needed.\n",
      "        If any component is an absolute path, all previous path components\n",
      "        will be discarded.  An empty last part will result in a path that\n",
      "        ends with a separator.\n",
      "    \n",
      "    lexists(path)\n",
      "        Test whether a path exists.  Returns True for broken symbolic links\n",
      "    \n",
      "    normcase(s)\n",
      "        Normalize case of pathname.  Has no effect under Posix\n",
      "    \n",
      "    normpath(path)\n",
      "        Normalize path, eliminating double slashes, etc.\n",
      "    \n",
      "    realpath(filename, *, strict=False)\n",
      "        Return the canonical path of the specified filename, eliminating any\n",
      "        symbolic links encountered in the path.\n",
      "    \n",
      "    relpath(path, start=None)\n",
      "        Return a relative version of a path\n",
      "    \n",
      "    samefile(f1, f2)\n",
      "        Test whether two pathnames reference the same actual file or directory\n",
      "        \n",
      "        This is determined by the device number and i-node number and\n",
      "        raises an exception if an os.stat() call on either pathname fails.\n",
      "    \n",
      "    sameopenfile(fp1, fp2)\n",
      "        Test whether two open file objects reference the same file\n",
      "    \n",
      "    samestat(s1, s2)\n",
      "        Test whether two stat buffers reference the same file\n",
      "    \n",
      "    split(p)\n",
      "        Split a pathname.  Returns tuple \"(head, tail)\" where \"tail\" is\n",
      "        everything after the final slash.  Either part may be empty.\n",
      "    \n",
      "    splitdrive(p)\n",
      "        Split a pathname into drive and path. On Posix, drive is always\n",
      "        empty.\n",
      "    \n",
      "    splitext(p)\n",
      "        Split the extension from a pathname.\n",
      "        \n",
      "        Extension is everything from the last dot to the end, ignoring\n",
      "        leading dots.  Returns \"(root, ext)\"; ext may be empty.\n",
      "\n",
      "DATA\n",
      "    __all__ = ['normcase', 'isabs', 'join', 'splitdrive', 'split', 'splite...\n",
      "    altsep = None\n",
      "    curdir = '.'\n",
      "    defpath = '/bin:/usr/bin'\n",
      "    devnull = '/dev/null'\n",
      "    extsep = '.'\n",
      "    pardir = '..'\n",
      "    pathsep = ':'\n",
      "    sep = '/'\n",
      "    supports_unicode_filenames = False\n",
      "\n",
      "FILE\n",
      "    /home/vladimir/miniconda3/lib/python3.11/posixpath.py\n",
      "\n",
      "\n"
     ]
    }
   ],
   "source": [
    "help(os.path)"
   ]
  },
  {
   "cell_type": "markdown",
   "metadata": {},
   "source": [
    "### Использование virtualenv, conda env, docker"
   ]
  },
  {
   "cell_type": "markdown",
   "metadata": {},
   "source": [
    "Со временем использование глобального Python ведет к аду с зависимостями.\n",
    "Для того, чтобы изолировать своё окружение используются следующие инструменты:\n",
    "\n",
    "* venv\n",
    "* conda env\n",
    "* docker"
   ]
  },
  {
   "cell_type": "markdown",
   "metadata": {},
   "source": [
    "[venv](https://docs.python.org/3/library/venv.html)\n",
    "    \n",
    "[conda environments](https://docs.conda.io/projects/conda/en/latest/user-guide/tasks/manage-environments.html)\n",
    "\n",
    "[docker](https://ru.wikipedia.org/wiki/Docker)"
   ]
  },
  {
   "cell_type": "markdown",
   "metadata": {},
   "source": [
    "### Статический анализ кода\n",
    "\n",
    "https://pylint.org/\n",
    "\n",
    "Статический анализатор __pylint__ позволяет:\n",
    "\n",
    "* Проверить код на соответствие стандарту (например, PEP-8)\n",
    "* Найти некоторые ошибки\n",
    "* Дать советы по рефакторингу кода\n",
    "\n",
    "pylint myfile.py"
   ]
  },
  {
   "cell_type": "markdown",
   "metadata": {},
   "source": [
    "## Анализ аргументов командной строки с помощью модуля Argparse\n",
    "#### Немного истории\n",
    "\n",
    "Давным-давно, когда графические пользовательские интерфейсы ещё не были развиты (или вовсе не существовали) и основным интерфейсом вызова программ была командная строка, люди захотели унифицировать и стандартизировать вид параметров для разных программ, чтобы пользователь при работе с ними находился в знакомой ему среде, держал в памяти меньше особенностей работы с той или иной программой и совершал меньше ошибок. (На самом деле, люди захотели переносимости программ между операционными системами, а унификация на параметры - следствие этого).\n",
    "\n",
    "Результатом этой работы стал ряд стандартов, самый распространённый из которых - POSIX (Portable Operating System Interface, читается \"позикс\"), разработанный сообществом IEEE. POSIX нацелен на портируемость программ между различными операционными системами и определяет системные и пользовательские программные интерфейсы (API), а также поведение оболочек командной строки (они же shell'ы) и интерфейсы вызова программ. Первая версия POSIX была выпущена в 1988 году, а последняя (текущая) - в 2024.\n",
    "\n",
    "Интересно, что ранние версии POSIX (до 2001 года) включали в себя спецификацию языка ANSI C. Более современные версии POSIX (после 2001 года) ориентированы на C99 и включает только заголовочные файлы и спецификацю системных интерфейсов.\n",
    "\n",
    "Так, например, стандартная программа на языке си выглядит следующим образом:\n",
    "\n",
    "```c\n",
    "int main(int argc, char **argv)\n",
    "{\n",
    "\treturn 0;\n",
    "}\n",
    "```\n",
    "\n",
    "Здесь *argc* - количество аргументов командной строки, а *argv* - массив строк, каждая из которых представляет собой параметр, переданный программе. argv[0] - всегда содержит имя исполняемого файла текущей программы. Например, при вызове ./main первый элемент массива (т.е. argv[0]) будет содержать строку \"./main\".\n",
    "\n",
    "Обратите внимание, что возвращаемое значение программы (также известное как код возврата или exit code) тоже регламетировано POSIX. В случае успеха (отсутствия ошибок) программа обязательно должна вернуть значение 0. Значение, отличное от нуля, сигнализирует о том, что что-то пошло не так, но конкретные значения стандартом не определены. Сразу после выполнения программы код возврата содержится в переменной оболочки *\\$?*. Например, вызов *echo \"$?\"* напечатает 0 (или какой-то код ошибки). Это позволяет автоматизировать анализ вызовов программ в скриптах."
   ]
  },
  {
   "cell_type": "markdown",
   "metadata": {},
   "source": [
    "#### Стандартизация аргументов\n",
    "\n",
    "POSIX рекомендует придерживаться следующих правил для аргументов командной строки:\n",
    "\n",
    "+ Аргументы являются опциями, если они начинаются с одного дефиса ('-').\n",
    "+ Если опции не принимают аргументы, то их можно объединять следующим образом: '-abc' эквивалентно '-a -b -c'\n",
    "+ Имя опции - один буквенно-цифорвой (alphanumeric) символ, т.е. латинская буква или арабская цифра. Регистр имеет значение, т.е. '-a' и '-A' - разные опции.\n",
    "+ Опция может требовать параметр. Параметр можно передавать в опцию после пробела или без него: '-o param' эквивалентно '-oparam'.\n",
    "+ При вызове программы, опции обычно идут перед аргументами, не являющимися опциями.\n",
    "+ Аргумент '--' говорит о том, что опции закончились. Любые последующие аргументы рассматриваются как не-опции, даже если они начинаются с дефиса.\n",
    "+ Опции могут следовать в любом порядке и их интерпретация осущетвляется программой.\n",
    "\n",
    "GNU расширяет эти соглашения, добавляя длинные опций. Длинная опция состоит из двух символов дефиса и имени, которое может содержать буквенно-цифровые символы и дефисы. Обычно, название опций содержит от одного до трёх слов, разделённых одинарными дефисами. Разработчик программы может давать длинным опциям короткие аналоги (но соответствующие короткие аналоги должны быть уникальными).\n",
    "\n",
    "Чтобы передать длинной опции параметр, используется следующий синтаксис: '--name=value'.\n",
    "\n",
    "Например, так выглядят аргументы команды *cat*:\n",
    "\n",
    "```\n",
    "Usage: cat [OPTION]... [FILE]...\n",
    "Concatenate FILE(s) to standard output.\n",
    "\n",
    "With no FILE, or when FILE is -, read standard input.\n",
    "\n",
    "  -A, --show-all           equivalent to -vET\n",
    "  -b, --number-nonblank    number nonempty output lines, overrides -n\n",
    "  -e                       equivalent to -vE\n",
    "  -E, --show-ends          display $ at end of each line\n",
    "  -n, --number             number all output lines\n",
    "  -s, --squeeze-blank      suppress repeated empty output lines\n",
    "  -t                       equivalent to -vT\n",
    "  -T, --show-tabs          display TAB characters as ^I\n",
    "  -u                       (ignored)\n",
    "  -v, --show-nonprinting   use ^ and M- notation, except for LFD and TAB\n",
    "      --help     display this help and exit\n",
    "      --version  output version information and exit\n",
    "\n",
    "Examples:\n",
    "  cat f - g  Output f's contents, then standard input, then g's contents.\n",
    "  cat        Copy standard input to standard output.\n",
    "```\n",
    "\n",
    "Источник: https://www.gnu.org/software/libc/manual/html_node/Argument-Syntax.html"
   ]
  },
  {
   "cell_type": "markdown",
   "metadata": {},
   "source": [
    "#### Аргументы в Python\n",
    "\n",
    "Как это всё относится к Python? Значения, аналогичные сишным argc/argv, в Python хранятся в переменной sys.argv. Это список строк, которые содержат аргументы вызова программы. Необходимость в argc отсутствует, так как мы всегда можем получить число аргументов с помощью len(sys.argv).\n",
    "\n",
    "Продемонстрируем это на примере простой программы (python06_example1.py):\n",
    "\n",
    "```python\n",
    "import sys\n",
    "\n",
    "def main():\n",
    "\tprint(sys.argv)\n",
    "\n",
    "if __name__ == '__main__':\n",
    "\tmain()\n",
    "\tsys.exit(0)\n",
    "\n",
    "```\n",
    "\n",
    "Вызовем программу следующим образом:\n",
    "```\n",
    "python Python06-best_practices_extra/python06_example1.py param1 param2 param3 \"multi word param4\" multi\\ word\\ param5\n",
    "```\n",
    "\n",
    "Программа напечатает следующее:\n",
    "```['Python06-best_practices_extra/python06_example1.py', 'param1', 'param2', 'param3', 'multi word param4', 'multi word param5']```\n",
    "\n",
    "В полной аналогии с программой на си, первым элементом списка является имя исполняемого скрипта (относительно текущей директории), после чего следуют аргументы его вызова.\n",
    "Аргументы, содержащие пробелы, можно окружать кавычками (одинарными или двойными), либо пробелы можно экранировать обратным слэшем. Вызов sys.exit() позволяет установить код возврата. По-умолчанию, python возвращает 0, то есть вызывать sys.exit(0) не обязательно."
   ]
  },
  {
   "cell_type": "markdown",
   "metadata": {},
   "source": [
    "#### Анализ аргументов в Python\n",
    "\n",
    "Одним из наиболее удобных и мощных способов анализа аргументов является модуль *argparse*.\n",
    "\n",
    "Для его использования необходимо создать объект класса ArgumentParser, настроить его и распарсить аргументы с его помощью:\n",
    "\n",
    "```python\n",
    "import argparse\n",
    "parser = argparse.ArgumentParser()\n",
    "parser.parse_args()\n",
    "```\n",
    "\n",
    "Добавить аргумент можно с помощью метода add_argument(name or flags..., *[, action][, nargs][, const][, default][, type][, choices][, required][, help][, metavar][, dest][, deprecated]), который имеет следующие параметры (здесь только основные, больше - в документации):\n",
    "\n",
    "+ name or flags - Название аргумента или имена опций, например, 'foo' or '-f', '--foo'.\n",
    "+ default - Значение по-умолчанию (когда при вызове программы этот аргумент не передаётся).\n",
    "+ type - Тип, в который конвертируется параметр этого аргумента.\n",
    "+ choices - Список возможных значений, которые может принимать параметр этого аргумента.\n",
    "+ required - Является ли этот аргумент обязательным при вызове программы.\n",
    "+ help - Короткое описание аргумента.\n",
    "\n",
    "Рассмотрим следующую программу (python06_example2.py):\n",
    "```python\n",
    "import argparse\n",
    "\n",
    "def main():\n",
    "    parser = argparse.ArgumentParser()\n",
    "    parser.add_argument('--epochs', '-e', help='Number of training epochs', type=int, default=100, required=True)\n",
    "    parser.add_argument('--opt', help='Optimizer algorithm', type=str, choices=['sgd', 'adam'])\n",
    "    parser.add_argument('--learning-rate', help='Learning rate', type=float, default=1e-3)\n",
    "    args = parser.parse_args()\n",
    "\n",
    "    print(f\"Epochs number: {args.epochs}\")\n",
    "    print(f\"Optimizer: {args.opt}\")\n",
    "    print(f\"Learning rate: {args.learning_rate}\")\n",
    "\n",
    "if __name__ == '__main__':\n",
    "    main()\n",
    "```\n",
    "\n",
    "Argparse позволяет автоматически создавать документацию на интерфейс вызова программы. Следующий текст будет напечатан при вызове *python Python06-best_practices_extra/python06_example2.py --help*:\n",
    "\n",
    "```\n",
    "usage: python06_example2.py [-h] --epochs EPOCHS [--opt {sgd,adam}] [--learning-rate LEARNING_RATE]\n",
    "\n",
    "options:\n",
    "  -h, --help            show this help message and exit\n",
    "  --epochs EPOCHS, -e EPOCHS\n",
    "                        Number of training epochs\n",
    "  --opt {sgd,adam}      Optimizer algorithm\n",
    "  --learning-rate LEARNING_RATE\n",
    "                        Learning rate\n",
    "```\n",
    "\n",
    "При вызове *python Python06-best_practices_extra/python06_example2.py* программа напечатает следующее (так как не задан обязательный аргумент --epochs):\n",
    "```\n",
    "usage: python06_example2.py [-h] --epochs EPOCHS [--opt {sgd,adam}] [--learning-rate LEARNING_RATE]\n",
    "python06_example2.py: error: the following arguments are required: --epochs/-e\n",
    "```\n",
    "\n",
    "При вызове *python Python06-best_practices_extra/python06_example2.py --epochs=100 --opt rmsprop* программа напечатает следующее (так как параметр 'rmpsprop' не допускается для аргумента opt):\n",
    "```\n",
    "usage: python06_example2.py [-h] --epochs EPOCHS [--opt {sgd,adam}] [--learning-rate LEARNING_RATE]\n",
    "python06_example2.py: error: argument --opt: invalid choice: 'rmsprop' (choose from 'sgd', 'adam')\n",
    "```\n",
    "\n",
    "При вызове *python Python06-best_practices_extra/python06_example2.py --epochs=100 --opt sgd --learning-rate=3e-4* программа напечатает следующее:\n",
    "```\n",
    "Epochs number: 100\n",
    "Optimizer: sgd\n",
    "Learning rate: 0.0003\n",
    "```\n",
    "\n",
    "В дальнейшем, поля объекта args можно использовать в ходе работы программы (в данном случае, это гиперпараметры модели машинного обучения)."
   ]
  },
  {
   "cell_type": "markdown",
   "metadata": {},
   "source": [
    "#### Литература\n",
    "\n",
    "* Читайте документацию, PEP-ы\n",
    "* Dan Bader, Python Tricks \n",
    "https://realpython.com/products/python-tricks-book/\n"
   ]
  },
  {
   "cell_type": "markdown",
   "metadata": {},
   "source": [
    "### Домашнее задание\n",
    "\n",
    "Задание состоит в том, чтобы имплементировать класс Matrix в файле matrix.py, учтя рекомендации pylint.\n",
    "Для проверки кода следует использовать команду pylint matrix.py.\n",
    "Pylint должен показывать 10 баллов.\n",
    "Кроме того, следует добавить поддержку исключений в отмеченных местах.\n",
    "Для проверки корректности алгоритмов следует сравнить результаты с соответствующими функциями numpy.\n",
    "\n",
    "Для сдачи задания необходимо прислать файл matrix.py.\n",
    "\n",
    "Проверка будет вестись преподавателем и оценки будут выставлены позднее.\n",
    "\n",
    "Проверка будет осуществляться на следующем окружении:\n",
    "+ pylint 3.3.1\n",
    "+ astroid 3.3.5"
   ]
  }
 ],
 "metadata": {
  "kernelspec": {
   "display_name": "Python 3 (ipykernel)",
   "language": "python",
   "name": "python3"
  },
  "language_info": {
   "codemirror_mode": {
    "name": "ipython",
    "version": 3
   },
   "file_extension": ".py",
   "mimetype": "text/x-python",
   "name": "python",
   "nbconvert_exporter": "python",
   "pygments_lexer": "ipython3",
   "version": "3.11.9"
  }
 },
 "nbformat": 4,
 "nbformat_minor": 4
}
